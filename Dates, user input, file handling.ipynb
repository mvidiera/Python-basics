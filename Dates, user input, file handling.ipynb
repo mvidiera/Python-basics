{
 "cells": [
  {
   "cell_type": "markdown",
   "id": "ad740cab",
   "metadata": {},
   "source": [
    "- to get the dates and work with one, I need to import datetime module\n",
    "- next code: year, month, date, hour, minute, second, milisecond"
   ]
  },
  {
   "cell_type": "code",
   "execution_count": 1,
   "id": "bdce385d",
   "metadata": {},
   "outputs": [],
   "source": [
    "import datetime"
   ]
  },
  {
   "cell_type": "code",
   "execution_count": 6,
   "id": "9ea98da0",
   "metadata": {},
   "outputs": [
    {
     "data": {
      "text/plain": [
       "datetime.datetime(2024, 9, 11, 2, 5, 4, 534683)"
      ]
     },
     "execution_count": 6,
     "metadata": {},
     "output_type": "execute_result"
    }
   ],
   "source": [
    "now= datetime.datetime.now()\n",
    "now\n"
   ]
  },
  {
   "cell_type": "code",
   "execution_count": 7,
   "id": "e8fc16f6",
   "metadata": {},
   "outputs": [
    {
     "name": "stdout",
     "output_type": "stream",
     "text": [
      "2024-09-11 02:05:04.534683\n"
     ]
    }
   ],
   "source": [
    "# to get the correct format visually, use print statement\n",
    "\n",
    "print(now)"
   ]
  },
  {
   "cell_type": "code",
   "execution_count": 8,
   "id": "9d3f656f",
   "metadata": {},
   "outputs": [
    {
     "name": "stdout",
     "output_type": "stream",
     "text": [
      "2024\n"
     ]
    }
   ],
   "source": [
    "# to return just year\n",
    "\n",
    "y= datetime.datetime.now()\n",
    "\n",
    "print(y.year)"
   ]
  },
  {
   "cell_type": "code",
   "execution_count": 13,
   "id": "519b2f99",
   "metadata": {},
   "outputs": [
    {
     "name": "stdout",
     "output_type": "stream",
     "text": [
      "<built-in method strftime of datetime.datetime object at 0x000002432256F240>\n"
     ]
    }
   ],
   "source": [
    "print(y.strftime)\n",
    "# this returns the object. \n",
    "# to convert the object into string: use (\"%A\")\n",
    "\n",
    "\n",
    "#strftime: it converts the date and time into string. "
   ]
  },
  {
   "cell_type": "code",
   "execution_count": 14,
   "id": "157de1da",
   "metadata": {},
   "outputs": [
    {
     "name": "stdout",
     "output_type": "stream",
     "text": [
      "Wednesday\n"
     ]
    }
   ],
   "source": [
    "print(y.strftime(\"%A\"))"
   ]
  },
  {
   "cell_type": "markdown",
   "id": "718a47ff",
   "metadata": {},
   "source": [
    "# User inputs"
   ]
  },
  {
   "cell_type": "code",
   "execution_count": 15,
   "id": "ec9ee79c",
   "metadata": {},
   "outputs": [
    {
     "name": "stdout",
     "output_type": "stream",
     "text": [
      "enter username: mvidiera\n"
     ]
    }
   ],
   "source": [
    "# input method \n",
    "\n",
    "username= input(\"enter username: \")\n",
    "\n"
   ]
  },
  {
   "cell_type": "code",
   "execution_count": 16,
   "id": "2043ed68",
   "metadata": {},
   "outputs": [
    {
     "name": "stdout",
     "output_type": "stream",
     "text": [
      "your username is mvidiera\n"
     ]
    }
   ],
   "source": [
    "print(\"your username is \" + username)"
   ]
  },
  {
   "cell_type": "code",
   "execution_count": 18,
   "id": "fe5cc12a",
   "metadata": {},
   "outputs": [
    {
     "ename": "NameError",
     "evalue": "name 'raw_input' is not defined",
     "output_type": "error",
     "traceback": [
      "\u001b[1;31m---------------------------------------------------------------------------\u001b[0m",
      "\u001b[1;31mNameError\u001b[0m                                 Traceback (most recent call last)",
      "Input \u001b[1;32mIn [18]\u001b[0m, in \u001b[0;36m<cell line: 4>\u001b[1;34m()\u001b[0m\n\u001b[0;32m      1\u001b[0m \u001b[38;5;66;03m# raw_input()\u001b[39;00m\n\u001b[1;32m----> 4\u001b[0m username1\u001b[38;5;241m=\u001b[39m \u001b[43mraw_input\u001b[49m(\u001b[38;5;124m\"\u001b[39m\u001b[38;5;124mEnter username: \u001b[39m\u001b[38;5;124m\"\u001b[39m)\n\u001b[0;32m      5\u001b[0m \u001b[38;5;28mprint\u001b[39m(\u001b[38;5;124m\"\u001b[39m\u001b[38;5;124myour username is \u001b[39m\u001b[38;5;124m\"\u001b[39m \u001b[38;5;241m+\u001b[39m username1)\n",
      "\u001b[1;31mNameError\u001b[0m: name 'raw_input' is not defined"
     ]
    }
   ],
   "source": [
    "# raw_input(): used by python 2.7 and less\n",
    "\n",
    "username1= raw_input(\"Enter username: \")\n",
    "print(\"your username is \" + username1)"
   ]
  },
  {
   "cell_type": "markdown",
   "id": "d47da7a7",
   "metadata": {},
   "source": [
    "# File handling"
   ]
  },
  {
   "cell_type": "code",
   "execution_count": 26,
   "id": "7df366e1",
   "metadata": {},
   "outputs": [
    {
     "data": {
      "text/plain": [
       "<_io.TextIOWrapper name='DogPoem.txt' mode='r' encoding='cp1252'>"
      ]
     },
     "execution_count": 26,
     "metadata": {},
     "output_type": "execute_result"
    }
   ],
   "source": [
    "t= open(\"DogPoem.txt\")\n",
    "t"
   ]
  },
  {
   "cell_type": "code",
   "execution_count": 27,
   "id": "e1b0fab7",
   "metadata": {},
   "outputs": [
    {
     "data": {
      "text/plain": [
       "<_io.TextIOWrapper name='DogPoem.txt' mode='rt' encoding='cp1252'>"
      ]
     },
     "execution_count": 27,
     "metadata": {},
     "output_type": "execute_result"
    }
   ],
   "source": [
    "t= open(\"DogPoem.txt\", \"rt\")\n",
    "t"
   ]
  },
  {
   "cell_type": "code",
   "execution_count": 28,
   "id": "fb80475d",
   "metadata": {},
   "outputs": [
    {
     "name": "stdout",
     "output_type": "stream",
     "text": [
      "This is text file.\n",
      "\n",
      "Melissa \n",
      "Whisky\n",
      "Sourav \n",
      "\n",
      "A little Dog that wags his tail\n",
      "And knows no other joy\n",
      "Of such a little Dog am I\n",
      "Reminded by a Boy\n",
      "\n",
      "Who gambols all the living Day\n",
      "Without an earthly cause\n",
      "Because he is a little Boy\n",
      "I honestly suppose â€”\n",
      "\n",
      "The Cat that in the Corner dwells\n",
      "Her martial Day forgot\n",
      "The Mouse but a Tradition now\n",
      "Of her desireless Lot\n",
      "\n",
      "Another class remind me\n",
      "Who neither please nor play\n",
      "But not to make a \"bit of noise\"\n",
      "Beseech each little Boy â€”\n"
     ]
    }
   ],
   "source": [
    "# to print the contents of text file. \n",
    "\n",
    "\n",
    "t= open(\"DogPoem.txt\", \"r\")\n",
    "print(t.read())"
   ]
  },
  {
   "cell_type": "code",
   "execution_count": 30,
   "id": "6c49e349",
   "metadata": {},
   "outputs": [
    {
     "name": "stdout",
     "output_type": "stream",
     "text": [
      "This is text file.\n",
      "\n",
      "Melissa \n",
      "Whisky\n",
      "Sourav \n",
      "\n",
      "A little Dog that wags his tail\n",
      "And knows no other joy\n",
      "Of such a little Dog am I\n",
      "Reminded by a Boy\n",
      "\n",
      "Who gambols all the living Day\n",
      "Without an earthly cause\n",
      "Because he is a little Boy\n",
      "I honestly suppose â€”\n",
      "\n",
      "The Cat that in the Corner dwells\n",
      "Her martial Day forgot\n",
      "The Mouse but a Tradition now\n",
      "Of her desireless Lot\n",
      "\n",
      "Another class remind me\n",
      "Who neither please nor play\n",
      "But not to make a \"bit of noise\"\n",
      "Beseech each little Boy â€”\n"
     ]
    }
   ],
   "source": [
    "# if it located in different location, then mention the path\n",
    "\n",
    "t= open(\"C:/Users/vidieme/Documents/DataScience/DogPoem.txt\", \"r\")\n",
    "print(t.read())"
   ]
  },
  {
   "cell_type": "code",
   "execution_count": 33,
   "id": "8378df4f",
   "metadata": {},
   "outputs": [
    {
     "name": "stdout",
     "output_type": "stream",
     "text": [
      "This is text file.\n",
      "\n",
      "Melissa \n",
      "Whisky\n",
      "Sourav \n",
      "\n",
      "A little \n"
     ]
    }
   ],
   "source": [
    "# to just read part of file, I can give the number of characters\n",
    "\n",
    "t= open(\"DogPoem.txt\", \"r\")\n",
    "print(t.read(54))"
   ]
  },
  {
   "cell_type": "code",
   "execution_count": 35,
   "id": "e0a8a175",
   "metadata": {},
   "outputs": [
    {
     "name": "stdout",
     "output_type": "stream",
     "text": [
      "And knows no other joy\n",
      "\n"
     ]
    }
   ],
   "source": [
    "# to return one line.\n",
    "\n",
    "print(t.readline())"
   ]
  },
  {
   "cell_type": "code",
   "execution_count": 36,
   "id": "d62d7faf",
   "metadata": {},
   "outputs": [
    {
     "name": "stdout",
     "output_type": "stream",
     "text": [
      "Of such a little Dog am I\n",
      "\n",
      "Reminded by a Boy\n",
      "\n",
      "\n",
      "\n",
      "Who gambols all the living Day\n",
      "\n",
      "Without an earthly cause\n",
      "\n",
      "Because he is a little Boy\n",
      "\n",
      "I honestly suppose â€”\n",
      "\n",
      "\n",
      "\n",
      "The Cat that in the Corner dwells\n",
      "\n",
      "Her martial Day forgot\n",
      "\n",
      "The Mouse but a Tradition now\n",
      "\n",
      "Of her desireless Lot\n",
      "\n",
      "\n",
      "\n",
      "Another class remind me\n",
      "\n",
      "Who neither please nor play\n",
      "\n",
      "But not to make a \"bit of noise\"\n",
      "\n",
      "Beseech each little Boy â€”\n"
     ]
    }
   ],
   "source": [
    "# read file line by line: this can be done using for loop \n",
    "\n",
    "for i in t:\n",
    "    print(i)"
   ]
  },
  {
   "cell_type": "code",
   "execution_count": 38,
   "id": "da5a04f1",
   "metadata": {},
   "outputs": [],
   "source": [
    "# to close file. \n",
    "# why we need to close file? if I make some changes, that wont be reflected sometimes. so better close and reopen\n",
    "t.close()"
   ]
  },
  {
   "cell_type": "markdown",
   "id": "eaa9def2",
   "metadata": {},
   "source": [
    "### create file/ write\n",
    "\n",
    "1. append mode\n",
    "- open file in append mode.\n",
    "- write the new content\n",
    "- close the file\n",
    "- open file in read r mode and check the updated file. \n",
    "- written content will be at the end as it is append mode\n",
    "\n",
    "\n",
    "- write mode"
   ]
  },
  {
   "cell_type": "code",
   "execution_count": 43,
   "id": "15610022",
   "metadata": {},
   "outputs": [],
   "source": [
    "# using t.write, open in append  \"a \" mode. Once written, close the file\n",
    "\n",
    "\n",
    "t= open(\"DogPoem.txt\", \"a\")\n",
    "t.write(\"\\n\\n\\n My girl Whisky is most precious thing in world!\")\n",
    "t.close()\n",
    "\n"
   ]
  },
  {
   "cell_type": "code",
   "execution_count": 44,
   "id": "236149ef",
   "metadata": {},
   "outputs": [
    {
     "name": "stdout",
     "output_type": "stream",
     "text": [
      "This is text file.\n",
      "\n",
      "Melissa \n",
      "Whisky\n",
      "Sourav \n",
      "\n",
      "A little Dog that wags his tail\n",
      "And knows no other joy\n",
      "Of such a little Dog am I\n",
      "Reminded by a Boy\n",
      "\n",
      "Who gambols all the living Day\n",
      "Without an earthly cause\n",
      "Because he is a little Boy\n",
      "I honestly suppose â€”\n",
      "\n",
      "The Cat that in the Corner dwells\n",
      "Her martial Day forgot\n",
      "The Mouse but a Tradition now\n",
      "Of her desireless Lot\n",
      "\n",
      "Another class remind me\n",
      "Who neither please nor play\n",
      "But not to make a \"bit of noise\"\n",
      "Beseech each little Boy â€”My girl Whisky is most precious thing in world!\n",
      " My girl Whisky is most precious thing in world!\n",
      "\n",
      "\n",
      " My girl Whisky is most precious thing in world!\n"
     ]
    }
   ],
   "source": [
    "t= open(\"DogPoem.txt\", \"r\")\n",
    "print(t.read())"
   ]
  },
  {
   "cell_type": "code",
   "execution_count": 45,
   "id": "fd637da9",
   "metadata": {},
   "outputs": [
    {
     "name": "stdout",
     "output_type": "stream",
     "text": [
      "This sentence is written over the original file\n"
     ]
    }
   ],
   "source": [
    "#write mode\n",
    "\n",
    "t= open(\"DogPoem.txt\", \"w\")\n",
    "t.write(\"This sentence is written over the original file\")\n",
    "t.close\n",
    "\n",
    "t= open(\"DogPoem.txt\",\"r\")\n",
    "print(t.read())"
   ]
  },
  {
   "cell_type": "code",
   "execution_count": 46,
   "id": "351ef4e7",
   "metadata": {},
   "outputs": [
    {
     "name": "stdout",
     "output_type": "stream",
     "text": [
      "This sentence is written over the original file\n"
     ]
    }
   ],
   "source": [
    "t= open(\"DogPoem.txt\",\"r\")\n",
    "print(t.read())\n",
    "\n",
    "# everything will be deleted and replaced over with this line"
   ]
  },
  {
   "cell_type": "code",
   "execution_count": 56,
   "id": "316b3007",
   "metadata": {},
   "outputs": [
    {
     "ename": "FileExistsError",
     "evalue": "[Errno 17] File exists: 'newfile1.txt'",
     "output_type": "error",
     "traceback": [
      "\u001b[1;31m---------------------------------------------------------------------------\u001b[0m",
      "\u001b[1;31mFileExistsError\u001b[0m                           Traceback (most recent call last)",
      "Input \u001b[1;32mIn [56]\u001b[0m, in \u001b[0;36m<cell line: 4>\u001b[1;34m()\u001b[0m\n\u001b[0;32m      1\u001b[0m \u001b[38;5;66;03m# create new file\u001b[39;00m\n\u001b[0;32m      2\u001b[0m \n\u001b[0;32m      3\u001b[0m \u001b[38;5;66;03m# x-> if x is written, then it throws an error if file already exists.\u001b[39;00m\n\u001b[1;32m----> 4\u001b[0m t1\u001b[38;5;241m=\u001b[39m \u001b[38;5;28;43mopen\u001b[39;49m\u001b[43m(\u001b[49m\u001b[38;5;124;43m\"\u001b[39;49m\u001b[38;5;124;43mnewfile1.txt\u001b[39;49m\u001b[38;5;124;43m\"\u001b[39;49m\u001b[43m,\u001b[49m\u001b[43m \u001b[49m\u001b[38;5;124;43m\"\u001b[39;49m\u001b[38;5;124;43mx\u001b[39;49m\u001b[38;5;124;43m\"\u001b[39;49m\u001b[43m)\u001b[49m\n",
      "\u001b[1;31mFileExistsError\u001b[0m: [Errno 17] File exists: 'newfile1.txt'"
     ]
    }
   ],
   "source": [
    "# create new file\n",
    "\n",
    "# x-> if x is written, then it throws an error if file already exists.\n",
    "t1= open(\"newfile1.txt\", \"x\")"
   ]
  },
  {
   "cell_type": "code",
   "execution_count": 50,
   "id": "e2034a5d",
   "metadata": {},
   "outputs": [
    {
     "ename": "UnsupportedOperation",
     "evalue": "not readable",
     "output_type": "error",
     "traceback": [
      "\u001b[1;31m---------------------------------------------------------------------------\u001b[0m",
      "\u001b[1;31mUnsupportedOperation\u001b[0m                      Traceback (most recent call last)",
      "Input \u001b[1;32mIn [50]\u001b[0m, in \u001b[0;36m<cell line: 1>\u001b[1;34m()\u001b[0m\n\u001b[1;32m----> 1\u001b[0m \u001b[38;5;28mprint\u001b[39m(\u001b[43mt1\u001b[49m\u001b[38;5;241;43m.\u001b[39;49m\u001b[43mread\u001b[49m\u001b[43m(\u001b[49m\u001b[43m)\u001b[49m)\n",
      "\u001b[1;31mUnsupportedOperation\u001b[0m: not readable"
     ]
    }
   ],
   "source": [
    "print(t1.read()) # its empty"
   ]
  },
  {
   "cell_type": "code",
   "execution_count": 52,
   "id": "bc461270",
   "metadata": {},
   "outputs": [
    {
     "ename": "UnsupportedOperation",
     "evalue": "not readable",
     "output_type": "error",
     "traceback": [
      "\u001b[1;31m---------------------------------------------------------------------------\u001b[0m",
      "\u001b[1;31mUnsupportedOperation\u001b[0m                      Traceback (most recent call last)",
      "Input \u001b[1;32mIn [52]\u001b[0m, in \u001b[0;36m<cell line: 2>\u001b[1;34m()\u001b[0m\n\u001b[0;32m      1\u001b[0m t1\u001b[38;5;241m.\u001b[39mwrite(\u001b[38;5;124m\"\u001b[39m\u001b[38;5;124mI created new file using open()\u001b[39m\u001b[38;5;124m\"\u001b[39m)\n\u001b[1;32m----> 2\u001b[0m \u001b[38;5;28mprint\u001b[39m(\u001b[43mt1\u001b[49m\u001b[38;5;241;43m.\u001b[39;49m\u001b[43mread\u001b[49m\u001b[43m(\u001b[49m\u001b[43m)\u001b[49m)\n",
      "\u001b[1;31mUnsupportedOperation\u001b[0m: not readable"
     ]
    }
   ],
   "source": [
    "t1.write(\"I created new file using open()\")\n",
    "print(t1.read())"
   ]
  },
  {
   "cell_type": "markdown",
   "id": "aeec62a5",
   "metadata": {},
   "source": [
    "### delete file\n",
    "\n",
    "- to delete file by by any of these methods, need to import os\n",
    "\n",
    "1. remove(filename): \n",
    "2. rmdir(filename):"
   ]
  },
  {
   "cell_type": "code",
   "execution_count": 53,
   "id": "ebd744a9",
   "metadata": {},
   "outputs": [],
   "source": [
    "import os\n",
    "os.remove(\"newfile.txt\")"
   ]
  },
  {
   "cell_type": "code",
   "execution_count": 54,
   "id": "01670ce9",
   "metadata": {},
   "outputs": [
    {
     "name": "stdout",
     "output_type": "stream",
     "text": [
      "File doesn't exists\n"
     ]
    }
   ],
   "source": [
    "# check if the file exists, if yes delete else throw error\n",
    "\n",
    "import os\n",
    "\n",
    "if os.path.exists(\"newfile.txt\"):\n",
    "    os.remove(\"newfile.txt\")\n",
    "else:\n",
    "    print(\"File doesn't exists\")"
   ]
  },
  {
   "cell_type": "code",
   "execution_count": 58,
   "id": "94c20051",
   "metadata": {},
   "outputs": [
    {
     "ename": "FileNotFoundError",
     "evalue": "[WinError 2] The system cannot find the file specified: 'newfile.txt'",
     "output_type": "error",
     "traceback": [
      "\u001b[1;31m---------------------------------------------------------------------------\u001b[0m",
      "\u001b[1;31mFileNotFoundError\u001b[0m                         Traceback (most recent call last)",
      "Input \u001b[1;32mIn [58]\u001b[0m, in \u001b[0;36m<cell line: 3>\u001b[1;34m()\u001b[0m\n\u001b[0;32m      1\u001b[0m \u001b[38;5;66;03m# rmdir\u001b[39;00m\n\u001b[1;32m----> 3\u001b[0m \u001b[43mos\u001b[49m\u001b[38;5;241;43m.\u001b[39;49m\u001b[43mrmdir\u001b[49m\u001b[43m(\u001b[49m\u001b[38;5;124;43m\"\u001b[39;49m\u001b[38;5;124;43mnewfile.txt\u001b[39;49m\u001b[38;5;124;43m\"\u001b[39;49m\u001b[43m)\u001b[49m\n",
      "\u001b[1;31mFileNotFoundError\u001b[0m: [WinError 2] The system cannot find the file specified: 'newfile.txt'"
     ]
    }
   ],
   "source": [
    "# rmdir\n",
    "\n",
    "os.rmdir(\"newfile.txt\")"
   ]
  },
  {
   "cell_type": "code",
   "execution_count": null,
   "id": "1a0cca69",
   "metadata": {},
   "outputs": [],
   "source": []
  }
 ],
 "metadata": {
  "kernelspec": {
   "display_name": "Python 3 (ipykernel)",
   "language": "python",
   "name": "python3"
  },
  "language_info": {
   "codemirror_mode": {
    "name": "ipython",
    "version": 3
   },
   "file_extension": ".py",
   "mimetype": "text/x-python",
   "name": "python",
   "nbconvert_exporter": "python",
   "pygments_lexer": "ipython3",
   "version": "3.9.12"
  }
 },
 "nbformat": 4,
 "nbformat_minor": 5
}
