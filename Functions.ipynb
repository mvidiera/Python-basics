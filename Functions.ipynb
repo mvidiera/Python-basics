{
 "cells": [
  {
   "cell_type": "code",
   "execution_count": 1,
   "id": "36626760",
   "metadata": {},
   "outputs": [],
   "source": [
    "# function definition\n",
    "\n",
    "def my_func():\n",
    "    print(\"Hello\")"
   ]
  },
  {
   "cell_type": "code",
   "execution_count": 2,
   "id": "dfd86f2f",
   "metadata": {},
   "outputs": [
    {
     "name": "stdout",
     "output_type": "stream",
     "text": [
      "Hello\n"
     ]
    }
   ],
   "source": [
    "# call function\n",
    "\n",
    "my_func()"
   ]
  },
  {
   "cell_type": "markdown",
   "id": "0aa11919",
   "metadata": {},
   "source": [
    "#### Arguments"
   ]
  },
  {
   "cell_type": "code",
   "execution_count": 5,
   "id": "50675431",
   "metadata": {},
   "outputs": [
    {
     "name": "stdout",
     "output_type": "stream",
     "text": [
      "Melissa Ghosh\n",
      "Whisky Ghosh\n",
      "Sourav Ghosh\n"
     ]
    }
   ],
   "source": [
    "def my_func(name):\n",
    "    print(name + \" Ghosh\")\n",
    "    \n",
    "my_func(\"Melissa\")\n",
    "my_func(\"Whisky\")  \n",
    "my_func(\"Sourav\")  "
   ]
  },
  {
   "cell_type": "code",
   "execution_count": 7,
   "id": "36455c37",
   "metadata": {},
   "outputs": [
    {
     "name": "stdout",
     "output_type": "stream",
     "text": [
      "Melissa Ghosh are perfect family\n",
      "Whiksy Ghosh are perfect family\n",
      "Sourav Ghosh are perfect family\n"
     ]
    }
   ],
   "source": [
    "def my_func1(fname, lname):\n",
    "    print(fname,lname + \" are perfect family\")\n",
    "    \n",
    "    \n",
    "my_func1(\"Melissa\", \"Ghosh\")\n",
    "my_func1(\"Whiksy\", \"Ghosh\")\n",
    "my_func1(\"Sourav\", \"Ghosh\")"
   ]
  },
  {
   "cell_type": "markdown",
   "id": "5377b339",
   "metadata": {},
   "source": [
    "### Arbitrary arguments: args\n",
    "\n",
    "- if the number of argumnets are unknown then add * before parameter name"
   ]
  },
  {
   "cell_type": "code",
   "execution_count": 11,
   "id": "90500cef",
   "metadata": {},
   "outputs": [
    {
     "name": "stdout",
     "output_type": "stream",
     "text": [
      "the youngest child is  Coco\n"
     ]
    }
   ],
   "source": [
    "def my_func2(*args):\n",
    "    print(\"the youngest child is \", args[-1])\n",
    "    \n",
    "my_func2(\"Picu\", \"Whisky\", \"Coco\")"
   ]
  },
  {
   "cell_type": "markdown",
   "id": "8f6cc4f8",
   "metadata": {},
   "source": [
    "### Keyword arguments\n",
    "- key value syntax"
   ]
  },
  {
   "cell_type": "code",
   "execution_count": 14,
   "id": "f155f568",
   "metadata": {},
   "outputs": [
    {
     "ename": "TypeError",
     "evalue": "my_func3() got an unexpected keyword argument 'c1'",
     "output_type": "error",
     "traceback": [
      "\u001b[1;31m---------------------------------------------------------------------------\u001b[0m",
      "\u001b[1;31mTypeError\u001b[0m                                 Traceback (most recent call last)",
      "Input \u001b[1;32mIn [14]\u001b[0m, in \u001b[0;36m<cell line: 4>\u001b[1;34m()\u001b[0m\n\u001b[0;32m      1\u001b[0m \u001b[38;5;28;01mdef\u001b[39;00m \u001b[38;5;21mmy_func3\u001b[39m(kwargs):\n\u001b[0;32m      2\u001b[0m     \u001b[38;5;28mprint\u001b[39m(\u001b[38;5;124m\"\u001b[39m\u001b[38;5;124mthe youngest child is \u001b[39m\u001b[38;5;124m\"\u001b[39m \u001b[38;5;241m+\u001b[39mkwargs[\u001b[38;5;241m-\u001b[39m\u001b[38;5;241m1\u001b[39m])\n\u001b[1;32m----> 4\u001b[0m \u001b[43mmy_func3\u001b[49m\u001b[43m(\u001b[49m\u001b[43mc1\u001b[49m\u001b[38;5;241;43m=\u001b[39;49m\u001b[43m \u001b[49m\u001b[38;5;124;43m\"\u001b[39;49m\u001b[38;5;124;43mPicu\u001b[39;49m\u001b[38;5;124;43m\"\u001b[39;49m\u001b[43m,\u001b[49m\u001b[43m \u001b[49m\u001b[43mc2\u001b[49m\u001b[38;5;241;43m=\u001b[39;49m\u001b[43m \u001b[49m\u001b[38;5;124;43m\"\u001b[39;49m\u001b[38;5;124;43mWhisky\u001b[39;49m\u001b[38;5;124;43m\"\u001b[39;49m\u001b[43m,\u001b[49m\u001b[43m \u001b[49m\u001b[43mc3\u001b[49m\u001b[38;5;241;43m=\u001b[39;49m\u001b[43m \u001b[49m\u001b[38;5;124;43m\"\u001b[39;49m\u001b[38;5;124;43mCoco\u001b[39;49m\u001b[38;5;124;43m\"\u001b[39;49m\u001b[43m)\u001b[49m\n",
      "\u001b[1;31mTypeError\u001b[0m: my_func3() got an unexpected keyword argument 'c1'"
     ]
    }
   ],
   "source": [
    "def my_func3(kwargs):\n",
    "    print(\"the youngest child is \" + kwargs[-1])\n",
    "    \n",
    "my_func3(c1= \"Picu\", c2= \"Whisky\", c3= \"Coco\")"
   ]
  },
  {
   "cell_type": "code",
   "execution_count": 15,
   "id": "217d88c0",
   "metadata": {},
   "outputs": [
    {
     "name": "stdout",
     "output_type": "stream",
     "text": [
      "The youngest child is Linus\n"
     ]
    }
   ],
   "source": [
    "def my_function(child3, child2, child1):\n",
    "  print(\"The youngest child is \" + child3)\n",
    "\n",
    "my_function(child1 = \"Emil\", child2 = \"Tobias\", child3 = \"Linus\")"
   ]
  },
  {
   "cell_type": "markdown",
   "id": "697b7cff",
   "metadata": {},
   "source": [
    "\n"
   ]
  },
  {
   "cell_type": "code",
   "execution_count": 19,
   "id": "bee33789",
   "metadata": {},
   "outputs": [
    {
     "ename": "KeyError",
     "evalue": "-1",
     "output_type": "error",
     "traceback": [
      "\u001b[1;31m---------------------------------------------------------------------------\u001b[0m",
      "\u001b[1;31mKeyError\u001b[0m                                  Traceback (most recent call last)",
      "Input \u001b[1;32mIn [19]\u001b[0m, in \u001b[0;36m<cell line: 4>\u001b[1;34m()\u001b[0m\n\u001b[0;32m      1\u001b[0m \u001b[38;5;28;01mdef\u001b[39;00m \u001b[38;5;21mmy_func3\u001b[39m(\u001b[38;5;241m*\u001b[39m\u001b[38;5;241m*\u001b[39mkwargs):\n\u001b[0;32m      2\u001b[0m     \u001b[38;5;28mprint\u001b[39m(\u001b[38;5;124m\"\u001b[39m\u001b[38;5;124m the yougest child is \u001b[39m\u001b[38;5;124m\"\u001b[39m \u001b[38;5;241m+\u001b[39m kwargs[\u001b[38;5;241m-\u001b[39m\u001b[38;5;241m1\u001b[39m])\n\u001b[1;32m----> 4\u001b[0m \u001b[43mmy_func3\u001b[49m\u001b[43m(\u001b[49m\u001b[43mc1\u001b[49m\u001b[38;5;241;43m=\u001b[39;49m\u001b[43m \u001b[49m\u001b[38;5;124;43m\"\u001b[39;49m\u001b[38;5;124;43mPicu\u001b[39;49m\u001b[38;5;124;43m\"\u001b[39;49m\u001b[43m,\u001b[49m\u001b[43m \u001b[49m\u001b[43mc2\u001b[49m\u001b[38;5;241;43m=\u001b[39;49m\u001b[43m \u001b[49m\u001b[38;5;124;43m\"\u001b[39;49m\u001b[38;5;124;43mWhisky\u001b[39;49m\u001b[38;5;124;43m\"\u001b[39;49m\u001b[43m,\u001b[49m\u001b[43m \u001b[49m\u001b[43mc3\u001b[49m\u001b[38;5;241;43m=\u001b[39;49m\u001b[43m \u001b[49m\u001b[38;5;124;43m\"\u001b[39;49m\u001b[38;5;124;43mCoco\u001b[39;49m\u001b[38;5;124;43m\"\u001b[39;49m\u001b[43m)\u001b[49m\n",
      "Input \u001b[1;32mIn [19]\u001b[0m, in \u001b[0;36mmy_func3\u001b[1;34m(**kwargs)\u001b[0m\n\u001b[0;32m      1\u001b[0m \u001b[38;5;28;01mdef\u001b[39;00m \u001b[38;5;21mmy_func3\u001b[39m(\u001b[38;5;241m*\u001b[39m\u001b[38;5;241m*\u001b[39mkwargs):\n\u001b[1;32m----> 2\u001b[0m     \u001b[38;5;28mprint\u001b[39m(\u001b[38;5;124m\"\u001b[39m\u001b[38;5;124m the yougest child is \u001b[39m\u001b[38;5;124m\"\u001b[39m \u001b[38;5;241m+\u001b[39m \u001b[43mkwargs\u001b[49m\u001b[43m[\u001b[49m\u001b[38;5;241;43m-\u001b[39;49m\u001b[38;5;241;43m1\u001b[39;49m\u001b[43m]\u001b[49m)\n",
      "\u001b[1;31mKeyError\u001b[0m: -1"
     ]
    }
   ],
   "source": [
    "def my_func3(**kwargs):\n",
    "    print(\" the yougest child is \" + kwargs[-1])\n",
    "    \n",
    "my_func3(c1= \"Picu\", c2= \"Whisky\", c3= \"Coco\")"
   ]
  },
  {
   "cell_type": "code",
   "execution_count": 4,
   "id": "b9815b00",
   "metadata": {},
   "outputs": [],
   "source": [
    "# use *args to accept all the arguments sent and print the arguments\n",
    "def my_func(*args):\n",
    "    \n",
    "    for i in args:\n",
    "        print(i)"
   ]
  },
  {
   "cell_type": "code",
   "execution_count": 5,
   "id": "209bb192",
   "metadata": {},
   "outputs": [
    {
     "name": "stdout",
     "output_type": "stream",
     "text": [
      "Melissa\n",
      "Whisky\n",
      "Sourav\n"
     ]
    }
   ],
   "source": [
    "my_func(\"Melissa\", \"Whisky\", \"Sourav\")"
   ]
  },
  {
   "cell_type": "code",
   "execution_count": 6,
   "id": "ed78d6e3",
   "metadata": {},
   "outputs": [
    {
     "name": "stdout",
     "output_type": "stream",
     "text": [
      "first argument is  Melissa\n",
      "Whisky\n",
      "Vidiera\n"
     ]
    }
   ],
   "source": [
    "# whwn I know onw argument and not others\n",
    "\n",
    "def my_func1(arg1, *args):\n",
    "    \n",
    "    print(\"first argument is \", arg1)\n",
    "    \n",
    "    for i in args:\n",
    "        print(i)\n",
    "        \n",
    "my_func1(\"Melissa\", \"Whisky\", \"Vidiera\")"
   ]
  },
  {
   "cell_type": "markdown",
   "id": "782e7e1d",
   "metadata": {},
   "source": [
    "### Arbitrary kwargs\n",
    "\n",
    "- when I say arbitrary * or ** is applied\n",
    "- when I dont know how many keyword arguments are passed, ** is sent"
   ]
  },
  {
   "cell_type": "code",
   "execution_count": 9,
   "id": "1fce0fd7",
   "metadata": {},
   "outputs": [
    {
     "name": "stdout",
     "output_type": "stream",
     "text": [
      "first == Melissa\n",
      "second == Whisky\n",
      "third == Sourav\n"
     ]
    }
   ],
   "source": [
    "def my_func2(**kwargs):\n",
    "    for key, value in kwargs.items():\n",
    "        print(\"%s == %s\" %(key, value))\n",
    "        \n",
    "        \n",
    "my_func2(first= \"Melissa\", second= \"Whisky\", third= \"Sourav\")"
   ]
  },
  {
   "cell_type": "code",
   "execution_count": 12,
   "id": "bd6a7305",
   "metadata": {},
   "outputs": [
    {
     "ename": "TypeError",
     "evalue": "can only concatenate str (not \"dict_items\") to str",
     "output_type": "error",
     "traceback": [
      "\u001b[1;31m---------------------------------------------------------------------------\u001b[0m",
      "\u001b[1;31mTypeError\u001b[0m                                 Traceback (most recent call last)",
      "Input \u001b[1;32mIn [12]\u001b[0m, in \u001b[0;36m<cell line: 4>\u001b[1;34m()\u001b[0m\n\u001b[0;32m      1\u001b[0m \u001b[38;5;28;01mdef\u001b[39;00m \u001b[38;5;21mmy_func3\u001b[39m(\u001b[38;5;241m*\u001b[39m\u001b[38;5;241m*\u001b[39mkwargs):\n\u001b[0;32m      2\u001b[0m     \u001b[38;5;28mprint\u001b[39m(\u001b[38;5;124m\"\u001b[39m\u001b[38;5;124m the yougest child is \u001b[39m\u001b[38;5;124m\"\u001b[39m \u001b[38;5;241m+\u001b[39m kwargs\u001b[38;5;241m.\u001b[39mitems())\n\u001b[1;32m----> 4\u001b[0m \u001b[43mmy_func3\u001b[49m\u001b[43m(\u001b[49m\u001b[43mc1\u001b[49m\u001b[38;5;241;43m=\u001b[39;49m\u001b[43m \u001b[49m\u001b[38;5;124;43m\"\u001b[39;49m\u001b[38;5;124;43mPicu\u001b[39;49m\u001b[38;5;124;43m\"\u001b[39;49m\u001b[43m,\u001b[49m\u001b[43m \u001b[49m\u001b[43mc2\u001b[49m\u001b[38;5;241;43m=\u001b[39;49m\u001b[43m \u001b[49m\u001b[38;5;124;43m\"\u001b[39;49m\u001b[38;5;124;43mWhisky\u001b[39;49m\u001b[38;5;124;43m\"\u001b[39;49m\u001b[43m,\u001b[49m\u001b[43m \u001b[49m\u001b[43mc3\u001b[49m\u001b[38;5;241;43m=\u001b[39;49m\u001b[43m \u001b[49m\u001b[38;5;124;43m\"\u001b[39;49m\u001b[38;5;124;43mCoco\u001b[39;49m\u001b[38;5;124;43m\"\u001b[39;49m\u001b[43m)\u001b[49m\n",
      "Input \u001b[1;32mIn [12]\u001b[0m, in \u001b[0;36mmy_func3\u001b[1;34m(**kwargs)\u001b[0m\n\u001b[0;32m      1\u001b[0m \u001b[38;5;28;01mdef\u001b[39;00m \u001b[38;5;21mmy_func3\u001b[39m(\u001b[38;5;241m*\u001b[39m\u001b[38;5;241m*\u001b[39mkwargs):\n\u001b[1;32m----> 2\u001b[0m     \u001b[38;5;28mprint\u001b[39m(\u001b[38;5;124;43m\"\u001b[39;49m\u001b[38;5;124;43m the yougest child is \u001b[39;49m\u001b[38;5;124;43m\"\u001b[39;49m\u001b[43m \u001b[49m\u001b[38;5;241;43m+\u001b[39;49m\u001b[43m \u001b[49m\u001b[43mkwargs\u001b[49m\u001b[38;5;241;43m.\u001b[39;49m\u001b[43mitems\u001b[49m\u001b[43m(\u001b[49m\u001b[43m)\u001b[49m)\n",
      "\u001b[1;31mTypeError\u001b[0m: can only concatenate str (not \"dict_items\") to str"
     ]
    }
   ],
   "source": [
    "def my_func3(**kwargs):\n",
    "    print(\" the yougest child is \" + kwargs.items())\n",
    "    \n",
    "my_func3(c1= \"Picu\", c2= \"Whisky\", c3= \"Coco\")"
   ]
  },
  {
   "cell_type": "markdown",
   "id": "d1a2b91b",
   "metadata": {},
   "source": [
    "### Using both args and kwargs"
   ]
  },
  {
   "cell_type": "code",
   "execution_count": 15,
   "id": "55d78c04",
   "metadata": {},
   "outputs": [
    {
     "name": "stdout",
     "output_type": "stream",
     "text": [
      "argument 1 melissa\n",
      "argument 2 whisky\n",
      "argument 3 whisky\n"
     ]
    }
   ],
   "source": [
    "def my_func3(arg1, arg2, arg3):\n",
    "    print(\"argument 1\",arg1)\n",
    "    print(\"argument 2\",arg2)\n",
    "    print(\"argument 3\",arg2)\n",
    "    \n",
    "    \n",
    "    \n",
    "args= (\"melissa\", \"whisky\", \"Sourav\")\n",
    "my_func3(*args)"
   ]
  },
  {
   "cell_type": "code",
   "execution_count": 16,
   "id": "97ef93e2",
   "metadata": {},
   "outputs": [
    {
     "name": "stdout",
     "output_type": "stream",
     "text": [
      "argument 1 Melissa\n",
      "argument 2 Whisky\n",
      "argument 3 Whisky\n"
     ]
    }
   ],
   "source": [
    "kwargs= {\"arg1\": \"Melissa\", \"arg2\": \"Whisky\", \"arg3\": \"Sourav\"}\n",
    "my_func3(**kwargs)"
   ]
  },
  {
   "cell_type": "code",
   "execution_count": 18,
   "id": "78704f03",
   "metadata": {},
   "outputs": [
    {
     "name": "stdout",
     "output_type": "stream",
     "text": [
      "args: ('Melissa', 'Whisky', 'Sourav')\n",
      "kwargs: {'fname': 'Whisky', 'lname': 'Vidiera'}\n"
     ]
    }
   ],
   "source": [
    "# passing both args and kwargs\n",
    "\n",
    "def my_func4(*args, **kwargs):\n",
    "    print(\"args:\" ,args)\n",
    "    print(\"kwargs:\", kwargs)\n",
    "    \n",
    "    \n",
    "    \n",
    "my_func4(\"Melissa\", \"Whisky\", \"Sourav\", fname= \"Whisky\", lname= \"Vidiera\")"
   ]
  },
  {
   "cell_type": "markdown",
   "id": "3a6c6c83",
   "metadata": {},
   "source": [
    "### passing list as arguments\n",
    "\n"
   ]
  },
  {
   "cell_type": "code",
   "execution_count": 19,
   "id": "5a7b492b",
   "metadata": {},
   "outputs": [
    {
     "name": "stdout",
     "output_type": "stream",
     "text": [
      "apple\n",
      "banana\n",
      "cherry\n"
     ]
    }
   ],
   "source": [
    "def fruit_func(arg):\n",
    "    for i in arg:\n",
    "        print(i)\n",
    "    \n",
    "    \n",
    "    \n",
    "    \n",
    "fruits= [\"apple\", \"banana\", \"cherry\"]\n",
    "fruit_func(fruits)"
   ]
  },
  {
   "cell_type": "markdown",
   "id": "4ea2a21a",
   "metadata": {},
   "source": [
    "### pass keyword\n"
   ]
  },
  {
   "cell_type": "code",
   "execution_count": 20,
   "id": "f3e25499",
   "metadata": {},
   "outputs": [],
   "source": [
    "def pass_func():\n",
    "    pass"
   ]
  },
  {
   "cell_type": "code",
   "execution_count": 21,
   "id": "58a8277d",
   "metadata": {},
   "outputs": [],
   "source": [
    "def pass_fun():\n",
    "    return()"
   ]
  },
  {
   "cell_type": "markdown",
   "id": "b434e9dc",
   "metadata": {},
   "source": [
    "### return values:"
   ]
  },
  {
   "cell_type": "code",
   "execution_count": 22,
   "id": "10cb548a",
   "metadata": {},
   "outputs": [],
   "source": [
    "def return_func(x):\n",
    "    return(5*x)\n",
    "    "
   ]
  },
  {
   "cell_type": "code",
   "execution_count": 24,
   "id": "263db362",
   "metadata": {},
   "outputs": [
    {
     "name": "stdout",
     "output_type": "stream",
     "text": [
      "15\n",
      "20\n",
      "30\n",
      "45\n"
     ]
    }
   ],
   "source": [
    "print(return_func(3))\n",
    "print(return_func(4))\n",
    "\n",
    "print(return_func(6))\n",
    "print(return_func(9))"
   ]
  },
  {
   "cell_type": "markdown",
   "id": "5ccc8a7b",
   "metadata": {},
   "source": [
    "### positional only arguments vs keyword argument\n",
    "\n",
    "- arguments which needs to be sent in order. This way, I will specify that function has only positional arguments, no keyword arg, no args or kwargs. \"/\" has to be mentioned. \n",
    "- / will be written after the arg list.\n",
    "- keyword argument, key value pair is sent as argument. * will be mentioned in arguments\n",
    "- * will be written before arg list"
   ]
  },
  {
   "cell_type": "code",
   "execution_count": 27,
   "id": "84a65eaf",
   "metadata": {},
   "outputs": [
    {
     "name": "stdout",
     "output_type": "stream",
     "text": [
      "8\n"
     ]
    }
   ],
   "source": [
    "def my_func5(x, /):\n",
    "    print(x)\n",
    "    \n",
    "my_func5(8)"
   ]
  },
  {
   "cell_type": "code",
   "execution_count": 28,
   "id": "ae024220",
   "metadata": {},
   "outputs": [
    {
     "name": "stdout",
     "output_type": "stream",
     "text": [
      "8\n"
     ]
    }
   ],
   "source": [
    "# by default funtion arg wil be considered as positional only. \n",
    "\n",
    "def my_func5(x):\n",
    "    print(x)\n",
    "    \n",
    "\n",
    "    my_func5(8)"
   ]
  },
  {
   "cell_type": "code",
   "execution_count": 29,
   "id": "db29ae7d",
   "metadata": {},
   "outputs": [
    {
     "ename": "TypeError",
     "evalue": "my_func5() got some positional-only arguments passed as keyword arguments: 'x'",
     "output_type": "error",
     "traceback": [
      "\u001b[1;31m---------------------------------------------------------------------------\u001b[0m",
      "\u001b[1;31mTypeError\u001b[0m                                 Traceback (most recent call last)",
      "Input \u001b[1;32mIn [29]\u001b[0m, in \u001b[0;36m<cell line: 4>\u001b[1;34m()\u001b[0m\n\u001b[0;32m      1\u001b[0m \u001b[38;5;28;01mdef\u001b[39;00m \u001b[38;5;21mmy_func5\u001b[39m(x, \u001b[38;5;241m/\u001b[39m):\n\u001b[0;32m      2\u001b[0m     \u001b[38;5;28mprint\u001b[39m(x)\n\u001b[1;32m----> 4\u001b[0m \u001b[43mmy_func5\u001b[49m\u001b[43m(\u001b[49m\u001b[43mx\u001b[49m\u001b[38;5;241;43m=\u001b[39;49m\u001b[38;5;241;43m8\u001b[39;49m\u001b[43m)\u001b[49m\n",
      "\u001b[1;31mTypeError\u001b[0m: my_func5() got some positional-only arguments passed as keyword arguments: 'x'"
     ]
    }
   ],
   "source": [
    "#doesnt work like this\n",
    "def my_func5(x, /):\n",
    "    print(x)\n",
    "    \n",
    "my_func5(x=8) # x=8 is keyword arg"
   ]
  },
  {
   "cell_type": "code",
   "execution_count": 30,
   "id": "0f5f2165",
   "metadata": {},
   "outputs": [
    {
     "name": "stdout",
     "output_type": "stream",
     "text": [
      "5\n"
     ]
    }
   ],
   "source": [
    "# keyword\n",
    "\n",
    "def my_func(*, x):\n",
    "    print(x)\n",
    "    \n",
    "my_func(x=5)"
   ]
  },
  {
   "cell_type": "code",
   "execution_count": 31,
   "id": "693bd039",
   "metadata": {},
   "outputs": [
    {
     "ename": "TypeError",
     "evalue": "my_func() takes 0 positional arguments but 1 was given",
     "output_type": "error",
     "traceback": [
      "\u001b[1;31m---------------------------------------------------------------------------\u001b[0m",
      "\u001b[1;31mTypeError\u001b[0m                                 Traceback (most recent call last)",
      "Input \u001b[1;32mIn [31]\u001b[0m, in \u001b[0;36m<cell line: 6>\u001b[1;34m()\u001b[0m\n\u001b[0;32m      3\u001b[0m \u001b[38;5;28;01mdef\u001b[39;00m \u001b[38;5;21mmy_func\u001b[39m(\u001b[38;5;241m*\u001b[39m, x):\n\u001b[0;32m      4\u001b[0m     \u001b[38;5;28mprint\u001b[39m(x)\n\u001b[1;32m----> 6\u001b[0m \u001b[43mmy_func\u001b[49m\u001b[43m(\u001b[49m\u001b[38;5;241;43m5\u001b[39;49m\u001b[43m)\u001b[49m\n",
      "\u001b[1;31mTypeError\u001b[0m: my_func() takes 0 positional arguments but 1 was given"
     ]
    }
   ],
   "source": [
    "# after mentioning * in arg, I have to pass key value, else I will get error like:\n",
    "\n",
    "def my_func(*, x):\n",
    "    print(x)\n",
    "    \n",
    "my_func(5)"
   ]
  },
  {
   "cell_type": "markdown",
   "id": "720c797b",
   "metadata": {},
   "source": [
    "### Combination of postional-ony and keyword-only arguments:\n"
   ]
  },
  {
   "cell_type": "code",
   "execution_count": 33,
   "id": "599cab5e",
   "metadata": {},
   "outputs": [
    {
     "name": "stdout",
     "output_type": "stream",
     "text": [
      "10\n"
     ]
    }
   ],
   "source": [
    "def my_func7(a,b,/, *, c, d):\n",
    "    print(a+b+c+d)\n",
    "    \n",
    "my_func7(1,2,c=3,d=4)"
   ]
  },
  {
   "cell_type": "code",
   "execution_count": null,
   "id": "a08d2195",
   "metadata": {},
   "outputs": [],
   "source": []
  }
 ],
 "metadata": {
  "kernelspec": {
   "display_name": "Python 3 (ipykernel)",
   "language": "python",
   "name": "python3"
  },
  "language_info": {
   "codemirror_mode": {
    "name": "ipython",
    "version": 3
   },
   "file_extension": ".py",
   "mimetype": "text/x-python",
   "name": "python",
   "nbconvert_exporter": "python",
   "pygments_lexer": "ipython3",
   "version": "3.9.12"
  }
 },
 "nbformat": 4,
 "nbformat_minor": 5
}
