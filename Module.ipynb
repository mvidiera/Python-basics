{
 "cells": [
  {
   "cell_type": "markdown",
   "id": "804ecaad",
   "metadata": {},
   "source": [
    "- Module is same as code library. \n",
    "- I write a code and save it. If other person want to use my code, they can import my code into theirs. \n",
    "- save the code using .py extension\n",
    "- use code using \"import\" keyword"
   ]
  },
  {
   "cell_type": "code",
   "execution_count": 15,
   "id": "f98ee89a",
   "metadata": {},
   "outputs": [],
   "source": [
    "def greetings(name):\n",
    "    print(\"Hello\", + name)\n",
    "    \n",
    "    # saved this code my_module.py\n",
    "    # in Jupyter, same dir create a txt file and save as py file"
   ]
  },
  {
   "cell_type": "code",
   "execution_count": null,
   "id": "2ebc095d",
   "metadata": {},
   "outputs": [],
   "source": []
  },
  {
   "cell_type": "code",
   "execution_count": 16,
   "id": "27733a9b",
   "metadata": {},
   "outputs": [],
   "source": [
    "import my_module"
   ]
  },
  {
   "cell_type": "code",
   "execution_count": 17,
   "id": "f0ec163d",
   "metadata": {},
   "outputs": [
    {
     "name": "stdout",
     "output_type": "stream",
     "text": [
      "Hello Melissa\n"
     ]
    }
   ],
   "source": [
    "my_module.greetings(\"Melissa\")"
   ]
  },
  {
   "cell_type": "markdown",
   "id": "0e2ea7c6",
   "metadata": {},
   "source": [
    "Created a file call module_variables.py in same directory\n",
    "\n",
    "person1= {\n",
    "    \"fname\":\"Melissa\",\n",
    "    \"lname\":\"Vidiera\",\n",
    "    \"age\":30\n",
    "}"
   ]
  },
  {
   "cell_type": "code",
   "execution_count": 19,
   "id": "234fbc8b",
   "metadata": {},
   "outputs": [],
   "source": [
    "import module_variables"
   ]
  },
  {
   "cell_type": "code",
   "execution_count": 21,
   "id": "e653c442",
   "metadata": {},
   "outputs": [
    {
     "data": {
      "text/plain": [
       "30"
      ]
     },
     "execution_count": 21,
     "metadata": {},
     "output_type": "execute_result"
    }
   ],
   "source": [
    "my_age= module_variables.person1[\"age\"]\n",
    "my_age"
   ]
  },
  {
   "cell_type": "markdown",
   "id": "92c820f3",
   "metadata": {},
   "source": [
    "###  renaming module: alias"
   ]
  },
  {
   "cell_type": "code",
   "execution_count": 24,
   "id": "d7c6b1c9",
   "metadata": {},
   "outputs": [
    {
     "data": {
      "text/plain": [
       "'Melissa'"
      ]
     },
     "execution_count": 24,
     "metadata": {},
     "output_type": "execute_result"
    }
   ],
   "source": [
    "\n",
    "\n",
    "import module_variables as mv\n",
    "\n",
    "my_name= mv.person1[\"fname\"]\n",
    "my_name"
   ]
  },
  {
   "cell_type": "markdown",
   "id": "0250a64b",
   "metadata": {},
   "source": [
    "### importing parts of module\n",
    "\n",
    "- one module can be huge with lots of code. \n",
    "- Module can have lot of functions and objects\n",
    "- to import a part of module, \"from\" keyword can be used. "
   ]
  },
  {
   "cell_type": "code",
   "execution_count": 27,
   "id": "6545d8d4",
   "metadata": {},
   "outputs": [
    {
     "data": {
      "text/plain": [
       "'Vidiera'"
      ]
     },
     "execution_count": 27,
     "metadata": {},
     "output_type": "execute_result"
    }
   ],
   "source": [
    "from module_variables import person1\n",
    "\n",
    "person1['lname']"
   ]
  },
  {
   "cell_type": "markdown",
   "id": "aeea3e8b",
   "metadata": {},
   "source": [
    "### built in modules"
   ]
  },
  {
   "cell_type": "code",
   "execution_count": 28,
   "id": "2848972d",
   "metadata": {},
   "outputs": [
    {
     "name": "stdout",
     "output_type": "stream",
     "text": [
      "Windows\n"
     ]
    }
   ],
   "source": [
    "import platform\n",
    "\n",
    "x = platform.system()\n",
    "print(x)\n"
   ]
  },
  {
   "cell_type": "code",
   "execution_count": null,
   "id": "ebcd9067",
   "metadata": {},
   "outputs": [],
   "source": []
  }
 ],
 "metadata": {
  "kernelspec": {
   "display_name": "Python 3 (ipykernel)",
   "language": "python",
   "name": "python3"
  },
  "language_info": {
   "codemirror_mode": {
    "name": "ipython",
    "version": 3
   },
   "file_extension": ".py",
   "mimetype": "text/x-python",
   "name": "python",
   "nbconvert_exporter": "python",
   "pygments_lexer": "ipython3",
   "version": "3.9.12"
  }
 },
 "nbformat": 4,
 "nbformat_minor": 5
}
