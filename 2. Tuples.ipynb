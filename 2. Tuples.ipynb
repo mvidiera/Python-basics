{
 "cells": [
  {
   "cell_type": "markdown",
   "id": "efa1c14f",
   "metadata": {},
   "source": [
    "### Tuples\n",
    "\n",
    "- Tuple is collection whih is ordered and unchangeable\n",
    "- Ordered: Items are defined ordered and will not be changed.\n",
    "- Unchangeable:cant change, add or removed once it has been created. \n",
    "- It allows duplicates. \n"
   ]
  },
  {
   "cell_type": "code",
   "execution_count": 1,
   "id": "10be4fdb",
   "metadata": {},
   "outputs": [
    {
     "data": {
      "text/plain": [
       "('apple', 'banana', 'cherry', 'apple', 'cherry')"
      ]
     },
     "execution_count": 1,
     "metadata": {},
     "output_type": "execute_result"
    }
   ],
   "source": [
    "tup1= (\"apple\", \"banana\", \"cherry\", \"apple\", \"cherry\")\n",
    "tup1"
   ]
  },
  {
   "cell_type": "code",
   "execution_count": 2,
   "id": "c13e7170",
   "metadata": {},
   "outputs": [
    {
     "data": {
      "text/plain": [
       "tuple"
      ]
     },
     "execution_count": 2,
     "metadata": {},
     "output_type": "execute_result"
    }
   ],
   "source": [
    "type(tup1)"
   ]
  },
  {
   "cell_type": "code",
   "execution_count": 3,
   "id": "f5ebf736",
   "metadata": {},
   "outputs": [
    {
     "data": {
      "text/plain": [
       "5"
      ]
     },
     "execution_count": 3,
     "metadata": {},
     "output_type": "execute_result"
    }
   ],
   "source": [
    "len(tup1)"
   ]
  },
  {
   "cell_type": "code",
   "execution_count": 5,
   "id": "d0152d63",
   "metadata": {},
   "outputs": [
    {
     "data": {
      "text/plain": [
       "str"
      ]
     },
     "execution_count": 5,
     "metadata": {},
     "output_type": "execute_result"
    }
   ],
   "source": [
    "# creating tuple with one element\n",
    "\n",
    "tup1= (\"apple\")\n",
    "type(tup1)\n",
    "\n",
    "#if I enter just one element, it wont be considered as tuple, instead as string. to create with 1 element use comma\n"
   ]
  },
  {
   "cell_type": "code",
   "execution_count": 6,
   "id": "d0a5db19",
   "metadata": {},
   "outputs": [
    {
     "data": {
      "text/plain": [
       "tuple"
      ]
     },
     "execution_count": 6,
     "metadata": {},
     "output_type": "execute_result"
    }
   ],
   "source": [
    "tup1= (\"apple\" , )\n",
    "type(tup1)"
   ]
  },
  {
   "cell_type": "code",
   "execution_count": 8,
   "id": "ff082b9c",
   "metadata": {},
   "outputs": [
    {
     "name": "stdout",
     "output_type": "stream",
     "text": [
      "<class 'tuple'>\n"
     ]
    },
    {
     "data": {
      "text/plain": [
       "('Melissa', 50, 'Vidiera', 134.9, 'Whisky', True, False)"
      ]
     },
     "execution_count": 8,
     "metadata": {},
     "output_type": "execute_result"
    }
   ],
   "source": [
    "# multiple data types\n",
    "\n",
    "tup2= (\"Melissa\", 50, \"Vidiera\", 134.90, \"Whisky\", True, False)\n",
    "print(type(tup2))\n",
    "tup2"
   ]
  },
  {
   "cell_type": "code",
   "execution_count": 9,
   "id": "51415c02",
   "metadata": {},
   "outputs": [
    {
     "data": {
      "text/plain": [
       "tuple"
      ]
     },
     "execution_count": 9,
     "metadata": {},
     "output_type": "execute_result"
    }
   ],
   "source": [
    "type(tup2)"
   ]
  },
  {
   "cell_type": "code",
   "execution_count": 11,
   "id": "0afa37b9",
   "metadata": {},
   "outputs": [
    {
     "data": {
      "text/plain": [
       "tuple"
      ]
     },
     "execution_count": 11,
     "metadata": {},
     "output_type": "execute_result"
    }
   ],
   "source": [
    "# tuple constructor\n",
    "\n",
    "tup_const= ((\"Apple\", \"Banana\", \"Cherry\"))\n",
    "type(tup_const)"
   ]
  },
  {
   "cell_type": "code",
   "execution_count": 12,
   "id": "895e731d",
   "metadata": {},
   "outputs": [
    {
     "data": {
      "text/plain": [
       "('Apple', 'Banana', 'Cherry')"
      ]
     },
     "execution_count": 12,
     "metadata": {},
     "output_type": "execute_result"
    }
   ],
   "source": [
    "tup_const"
   ]
  },
  {
   "cell_type": "markdown",
   "id": "89e34c87",
   "metadata": {},
   "source": [
    "### Accessing Tuple Items:\n",
    "- Indexing\n",
    "- Negative indexing\n",
    "- Range\n",
    "- Range of negative index\n",
    "- check if item exists"
   ]
  },
  {
   "cell_type": "code",
   "execution_count": 14,
   "id": "18429cd6",
   "metadata": {},
   "outputs": [
    {
     "data": {
      "text/plain": [
       "'mango'"
      ]
     },
     "execution_count": 14,
     "metadata": {},
     "output_type": "execute_result"
    }
   ],
   "source": [
    "# 1. indexing\n",
    "\n",
    "tup3= (\"apple\", \"banana\", \"cherry\", \"orange\", \"kiwi\", \"melon\", \"mango\")\n",
    "tup3[6]"
   ]
  },
  {
   "cell_type": "code",
   "execution_count": 15,
   "id": "0195f18b",
   "metadata": {},
   "outputs": [
    {
     "ename": "IndexError",
     "evalue": "tuple index out of range",
     "output_type": "error",
     "traceback": [
      "\u001b[1;31m---------------------------------------------------------------------------\u001b[0m",
      "\u001b[1;31mIndexError\u001b[0m                                Traceback (most recent call last)",
      "Input \u001b[1;32mIn [15]\u001b[0m, in \u001b[0;36m<cell line: 1>\u001b[1;34m()\u001b[0m\n\u001b[1;32m----> 1\u001b[0m \u001b[43mtup3\u001b[49m\u001b[43m[\u001b[49m\u001b[38;5;241;43m9\u001b[39;49m\u001b[43m]\u001b[49m\n",
      "\u001b[1;31mIndexError\u001b[0m: tuple index out of range"
     ]
    }
   ],
   "source": [
    "tup3[9]"
   ]
  },
  {
   "cell_type": "code",
   "execution_count": 16,
   "id": "d03f3f3f",
   "metadata": {},
   "outputs": [
    {
     "data": {
      "text/plain": [
       "('cherry', 'orange', 'kiwi')"
      ]
     },
     "execution_count": 16,
     "metadata": {},
     "output_type": "execute_result"
    }
   ],
   "source": [
    "tup3[2:5]"
   ]
  },
  {
   "cell_type": "code",
   "execution_count": 17,
   "id": "03f66bfe",
   "metadata": {},
   "outputs": [
    {
     "data": {
      "text/plain": [
       "'mango'"
      ]
     },
     "execution_count": 17,
     "metadata": {},
     "output_type": "execute_result"
    }
   ],
   "source": [
    "tup3[-1]"
   ]
  },
  {
   "cell_type": "code",
   "execution_count": 19,
   "id": "a658b43b",
   "metadata": {},
   "outputs": [
    {
     "data": {
      "text/plain": [
       "('apple', 'banana', 'cherry', 'orange', 'kiwi', 'melon', 'mango')"
      ]
     },
     "execution_count": 19,
     "metadata": {},
     "output_type": "execute_result"
    }
   ],
   "source": [
    "tup3"
   ]
  },
  {
   "cell_type": "code",
   "execution_count": 27,
   "id": "feb55377",
   "metadata": {},
   "outputs": [
    {
     "data": {
      "text/plain": [
       "('orange', 'kiwi', 'melon')"
      ]
     },
     "execution_count": 27,
     "metadata": {},
     "output_type": "execute_result"
    }
   ],
   "source": [
    "\n",
    "tup3[-4:-1]"
   ]
  },
  {
   "cell_type": "code",
   "execution_count": 28,
   "id": "86ab1780",
   "metadata": {},
   "outputs": [
    {
     "data": {
      "text/plain": [
       "('cherry', 'orange', 'kiwi')"
      ]
     },
     "execution_count": 28,
     "metadata": {},
     "output_type": "execute_result"
    }
   ],
   "source": [
    "tup3[-5:-2]"
   ]
  },
  {
   "cell_type": "code",
   "execution_count": 24,
   "id": "74d93614",
   "metadata": {},
   "outputs": [
    {
     "data": {
      "text/plain": [
       "('cherry', 'orange', 'kiwi', 'melon', 'mango')"
      ]
     },
     "execution_count": 24,
     "metadata": {},
     "output_type": "execute_result"
    }
   ],
   "source": [
    "tup3[2:]"
   ]
  },
  {
   "cell_type": "code",
   "execution_count": 26,
   "id": "d4091422",
   "metadata": {},
   "outputs": [
    {
     "data": {
      "text/plain": [
       "('apple', 'banana', 'cherry', 'orange', 'kiwi')"
      ]
     },
     "execution_count": 26,
     "metadata": {},
     "output_type": "execute_result"
    }
   ],
   "source": [
    "tup3[:5]"
   ]
  },
  {
   "cell_type": "code",
   "execution_count": 29,
   "id": "4290b08d",
   "metadata": {},
   "outputs": [
    {
     "name": "stdout",
     "output_type": "stream",
     "text": [
      "True\n"
     ]
    }
   ],
   "source": [
    "#check if item exist\n",
    "\n",
    "if \"banana\" in tup3:\n",
    "    print(True)"
   ]
  },
  {
   "cell_type": "code",
   "execution_count": 30,
   "id": "44d2bf8e",
   "metadata": {},
   "outputs": [
    {
     "name": "stdout",
     "output_type": "stream",
     "text": [
      "False\n"
     ]
    }
   ],
   "source": [
    "if \"strawberry\" in tup3:\n",
    "    print(True)\n",
    "else:\n",
    "    print(False)"
   ]
  },
  {
   "cell_type": "markdown",
   "id": "bc90bc90",
   "metadata": {},
   "source": [
    "### Update Tuples\n",
    "\n",
    "- Tuples cant be updated like list. Unchangeable\n",
    "- Immutable\n",
    "- to change the valye of tuple, convert that into list.then update. convert the list back into tuple"
   ]
  },
  {
   "cell_type": "code",
   "execution_count": 35,
   "id": "50563eb5",
   "metadata": {},
   "outputs": [
    {
     "ename": "TypeError",
     "evalue": "'tuple' object does not support item assignment",
     "output_type": "error",
     "traceback": [
      "\u001b[1;31m---------------------------------------------------------------------------\u001b[0m",
      "\u001b[1;31mTypeError\u001b[0m                                 Traceback (most recent call last)",
      "Input \u001b[1;32mIn [35]\u001b[0m, in \u001b[0;36m<cell line: 3>\u001b[1;34m()\u001b[0m\n\u001b[0;32m      1\u001b[0m tup4\u001b[38;5;241m=\u001b[39m(\u001b[38;5;124m'\u001b[39m\u001b[38;5;124mapple\u001b[39m\u001b[38;5;124m'\u001b[39m, \u001b[38;5;124m'\u001b[39m\u001b[38;5;124mbanana\u001b[39m\u001b[38;5;124m'\u001b[39m, \u001b[38;5;124m'\u001b[39m\u001b[38;5;124mcherry\u001b[39m\u001b[38;5;124m'\u001b[39m, \u001b[38;5;124m'\u001b[39m\u001b[38;5;124morange\u001b[39m\u001b[38;5;124m'\u001b[39m, \u001b[38;5;124m'\u001b[39m\u001b[38;5;124mkiwi\u001b[39m\u001b[38;5;124m'\u001b[39m, \u001b[38;5;124m'\u001b[39m\u001b[38;5;124mmelon\u001b[39m\u001b[38;5;124m'\u001b[39m, \u001b[38;5;124m'\u001b[39m\u001b[38;5;124mmango\u001b[39m\u001b[38;5;124m'\u001b[39m)\n\u001b[1;32m----> 3\u001b[0m tup4[\u001b[38;5;241m2\u001b[39m] \u001b[38;5;241m=\u001b[39m \u001b[38;5;124m\"\u001b[39m\u001b[38;5;124mMelissa\u001b[39m\u001b[38;5;124m\"\u001b[39m\n\u001b[0;32m      5\u001b[0m tup4\n",
      "\u001b[1;31mTypeError\u001b[0m: 'tuple' object does not support item assignment"
     ]
    }
   ],
   "source": [
    "tup4=('apple', 'banana', 'cherry', 'orange', 'kiwi', 'melon', 'mango')\n",
    "\n",
    "tup4[2] = \"Melissa\"\n",
    "\n",
    "tup4"
   ]
  },
  {
   "cell_type": "code",
   "execution_count": 36,
   "id": "297d7c4a",
   "metadata": {},
   "outputs": [
    {
     "data": {
      "text/plain": [
       "('apple', 'banana', 'Melissa', 'orange', 'kiwi', 'melon', 'mango')"
      ]
     },
     "execution_count": 36,
     "metadata": {},
     "output_type": "execute_result"
    }
   ],
   "source": [
    "tup4=('apple', 'banana', 'cherry', 'orange', 'kiwi', 'melon', 'mango')\n",
    "tup_to_list = list(tup4)\n",
    "\n",
    "tup_to_list[2] = \"Melissa\"\n",
    "\n",
    "tup4 = tuple(tup_to_list)\n",
    "\n",
    "tup4"
   ]
  },
  {
   "cell_type": "markdown",
   "id": "832877a3",
   "metadata": {},
   "source": [
    "### Adding item to tuple\n",
    "1. \n",
    "- As tuple is immutable, I can not use append() to add item. \n",
    "- Convert tuple into list\n",
    "- add item using append()\n",
    "- convert back to tuple\n",
    "\n",
    "2. Adding 2 tuples:\n",
    "- using + operator. \n",
    "- create tuples with one or more elements and add using + operator"
   ]
  },
  {
   "cell_type": "code",
   "execution_count": 39,
   "id": "2cb0a84d",
   "metadata": {},
   "outputs": [
    {
     "data": {
      "text/plain": [
       "('apple',\n",
       " 'banana',\n",
       " 'Melissa',\n",
       " 'orange',\n",
       " 'kiwi',\n",
       " 'melon',\n",
       " 'mango',\n",
       " 'watermelon')"
      ]
     },
     "execution_count": 39,
     "metadata": {},
     "output_type": "execute_result"
    }
   ],
   "source": [
    "tup5=('apple', 'banana', 'cherry', 'orange', 'kiwi', 'melon', 'mango')\n",
    "tup_to_list1 = list(tup4)\n",
    "\n",
    "tup_to_list1.append(\"watermelon\")\n",
    "\n",
    "tup5= tuple(tup_to_list1)\n",
    "tup5"
   ]
  },
  {
   "cell_type": "code",
   "execution_count": 41,
   "id": "17628fb2",
   "metadata": {},
   "outputs": [
    {
     "data": {
      "text/plain": [
       "('Apple', 'Banana', 'Cherry', 'Orange')"
      ]
     },
     "execution_count": 41,
     "metadata": {},
     "output_type": "execute_result"
    }
   ],
   "source": [
    "tup6= (\"Apple\", \"Banana\", \"Cherry\")\n",
    "tup7= (\"Orange\",)\n",
    "\n",
    "tup6= tup6+tup7\n",
    "tup6"
   ]
  },
  {
   "cell_type": "code",
   "execution_count": 44,
   "id": "9a2430e2",
   "metadata": {},
   "outputs": [
    {
     "data": {
      "text/plain": [
       "('Apple',\n",
       " 'Banana',\n",
       " 'Cherry',\n",
       " 'Orange',\n",
       " 'carrot',\n",
       " 'beetroot',\n",
       " 'beans',\n",
       " 'carrot',\n",
       " 'beetroot',\n",
       " 'beans')"
      ]
     },
     "execution_count": 44,
     "metadata": {},
     "output_type": "execute_result"
    }
   ],
   "source": [
    "#other way of adding: increment operator\n",
    "# adding multiple items to tuple\n",
    "\n",
    "tup8= (\"carrot\", \"beetroot\", \"beans\")\n",
    "tup6 += tup8\n",
    "tup6\n",
    "\n",
    "#ran twice, so added twice"
   ]
  },
  {
   "cell_type": "code",
   "execution_count": 47,
   "id": "0e48f8a3",
   "metadata": {},
   "outputs": [
    {
     "ename": "TypeError",
     "evalue": "can only concatenate tuple (not \"str\") to tuple",
     "output_type": "error",
     "traceback": [
      "\u001b[1;31m---------------------------------------------------------------------------\u001b[0m",
      "\u001b[1;31mTypeError\u001b[0m                                 Traceback (most recent call last)",
      "Input \u001b[1;32mIn [47]\u001b[0m, in \u001b[0;36m<cell line: 4>\u001b[1;34m()\u001b[0m\n\u001b[0;32m      2\u001b[0m tup9\u001b[38;5;241m=\u001b[39m (\u001b[38;5;124m\"\u001b[39m\u001b[38;5;124mApple\u001b[39m\u001b[38;5;124m\"\u001b[39m, \u001b[38;5;124m\"\u001b[39m\u001b[38;5;124mBanana\u001b[39m\u001b[38;5;124m\"\u001b[39m, \u001b[38;5;124m\"\u001b[39m\u001b[38;5;124mCherry\u001b[39m\u001b[38;5;124m\"\u001b[39m)\n\u001b[0;32m      3\u001b[0m tup10\u001b[38;5;241m=\u001b[39m (\u001b[38;5;124m\"\u001b[39m\u001b[38;5;124mOrange\u001b[39m\u001b[38;5;124m\"\u001b[39m)\n\u001b[1;32m----> 4\u001b[0m tup9\u001b[38;5;241m=\u001b[39m \u001b[43mtup9\u001b[49m\u001b[38;5;241;43m+\u001b[39;49m\u001b[43mtup10\u001b[49m\n\u001b[0;32m      5\u001b[0m tup9\n",
      "\u001b[1;31mTypeError\u001b[0m: can only concatenate tuple (not \"str\") to tuple"
     ]
    }
   ],
   "source": [
    "# instead of (\"Orange\",): try (\"Orange\"): this will be considered as str\n",
    "tup9= (\"Apple\", \"Banana\", \"Cherry\")\n",
    "tup10= (\"Orange\")\n",
    "tup9= tup9+tup10\n",
    "tup9"
   ]
  },
  {
   "cell_type": "markdown",
   "id": "5e06b989",
   "metadata": {},
   "source": [
    "### Unpack tuples:\n",
    "\n",
    "- assigning values to tuples are called packing. \n",
    "- Extracting values back into variables are called unpacking"
   ]
  },
  {
   "cell_type": "code",
   "execution_count": 48,
   "id": "0a9065d9",
   "metadata": {},
   "outputs": [],
   "source": [
    "# packing\n",
    "\n",
    "tup9 = (\"apple\", \"banana\", \"cherry\")"
   ]
  },
  {
   "cell_type": "code",
   "execution_count": 49,
   "id": "7068b4f7",
   "metadata": {},
   "outputs": [
    {
     "ename": "SyntaxError",
     "evalue": "cannot assign to literal (3797974392.py, line 3)",
     "output_type": "error",
     "traceback": [
      "\u001b[1;36m  Input \u001b[1;32mIn [49]\u001b[1;36m\u001b[0m\n\u001b[1;33m    (\"carrot\", \"beet\", \"beans\") = tup9\u001b[0m\n\u001b[1;37m     ^\u001b[0m\n\u001b[1;31mSyntaxError\u001b[0m\u001b[1;31m:\u001b[0m cannot assign to literal\n"
     ]
    }
   ],
   "source": [
    "#unpacking: DO NOT USE \" \"\n",
    "\n",
    "(\"carrot\", \"beet\", \"beans\") = tup9"
   ]
  },
  {
   "cell_type": "code",
   "execution_count": 50,
   "id": "faf9fad0",
   "metadata": {},
   "outputs": [
    {
     "name": "stdout",
     "output_type": "stream",
     "text": [
      "apple\n",
      "banana\n",
      "cherry\n"
     ]
    }
   ],
   "source": [
    "#unpacking: assigning the values of tuples into variables\n",
    "\n",
    "tup9 = (\"apple\", \"banana\", \"cherry\")\n",
    "\n",
    "(carrot, beet, beans) = tup9\n",
    "\n",
    "print(carrot)\n",
    "print(beet)\n",
    "print(beans)"
   ]
  },
  {
   "cell_type": "code",
   "execution_count": 52,
   "id": "72fa54c2",
   "metadata": {},
   "outputs": [
    {
     "name": "stdout",
     "output_type": "stream",
     "text": [
      "apple\n",
      "banana\n",
      "['cherry', 'orange', 'kiwi', 'melon', 'mango']\n"
     ]
    }
   ],
   "source": [
    "# if number of variables is less than number of values, use asterisk * \n",
    "\n",
    "tup10=('apple', 'banana', 'cherry', 'orange', 'kiwi', 'melon', 'mango')\n",
    "\n",
    "(green, yellow, *red) = tup10\n",
    "\n",
    "print(green)\n",
    "print(yellow)\n",
    "print(red)"
   ]
  },
  {
   "cell_type": "code",
   "execution_count": 53,
   "id": "50dd0531",
   "metadata": {},
   "outputs": [
    {
     "name": "stdout",
     "output_type": "stream",
     "text": [
      "apple\n",
      "['banana', 'cherry', 'orange', 'kiwi', 'melon']\n",
      "mango\n"
     ]
    }
   ],
   "source": [
    "# similarly, if I give asterisk in second varibale. it fetches all others apart from first and last\n",
    "tup11=('apple', 'banana', 'cherry', 'orange', 'kiwi', 'melon', 'mango')\n",
    "\n",
    "(green, *yellow, red) = tup10\n",
    "\n",
    "print(green)\n",
    "print(yellow)\n",
    "print(red)"
   ]
  },
  {
   "cell_type": "code",
   "execution_count": 54,
   "id": "ba5c9abf",
   "metadata": {},
   "outputs": [
    {
     "name": "stdout",
     "output_type": "stream",
     "text": [
      "['apple', 'banana', 'cherry', 'orange', 'kiwi']\n",
      "melon\n",
      "mango\n"
     ]
    }
   ],
   "source": [
    "tup12=('apple', 'banana', 'cherry', 'orange', 'kiwi', 'melon', 'mango')\n",
    "\n",
    "(*green, yellow, red) = tup10\n",
    "\n",
    "print(green)\n",
    "print(yellow)\n",
    "print(red)"
   ]
  },
  {
   "cell_type": "markdown",
   "id": "dd69adea",
   "metadata": {},
   "source": [
    "### Tuple loops\n",
    "- for loop\n",
    "- while loop\n",
    "- range(len(tuple))\n"
   ]
  },
  {
   "cell_type": "code",
   "execution_count": 57,
   "id": "ed54ac01",
   "metadata": {},
   "outputs": [
    {
     "name": "stdout",
     "output_type": "stream",
     "text": [
      "apple\n",
      "banana\n",
      "cherry\n",
      "orange\n",
      "kiwi\n",
      "melon\n",
      "mango\n"
     ]
    }
   ],
   "source": [
    "# for loop\n",
    "\n",
    "tup13=('apple', 'banana', 'cherry', 'orange', 'kiwi', 'melon', 'mango')\n",
    "\n",
    "for i in tup13:\n",
    "    print(i)\n",
    "    \n",
    "    #not print(tup13[i])"
   ]
  },
  {
   "cell_type": "code",
   "execution_count": 59,
   "id": "ef9406b1",
   "metadata": {},
   "outputs": [
    {
     "name": "stdout",
     "output_type": "stream",
     "text": [
      "apple\n",
      "banana\n",
      "cherry\n",
      "orange\n",
      "kiwi\n",
      "melon\n",
      "mango\n"
     ]
    }
   ],
   "source": [
    "# while\n",
    "\n",
    "i = 0\n",
    "n = len(tup13)\n",
    "\n",
    "while(i<n):\n",
    "    print(tup13[i])\n",
    "    i += 1"
   ]
  },
  {
   "cell_type": "code",
   "execution_count": 62,
   "id": "5879ee26",
   "metadata": {},
   "outputs": [
    {
     "name": "stdout",
     "output_type": "stream",
     "text": [
      "apple\n",
      "banana\n",
      "cherry\n",
      "orange\n",
      "kiwi\n",
      "melon\n",
      "mango\n"
     ]
    }
   ],
   "source": [
    "# range(len(tuple))\n",
    "\n",
    "for i in range(len(tup13)):\n",
    "    print(tup13[i])"
   ]
  },
  {
   "cell_type": "code",
   "execution_count": 61,
   "id": "262a0a95",
   "metadata": {},
   "outputs": [
    {
     "name": "stdout",
     "output_type": "stream",
     "text": [
      "0\n",
      "1\n",
      "2\n",
      "3\n",
      "4\n",
      "5\n",
      "6\n"
     ]
    }
   ],
   "source": [
    "for i in range(len(tup3)):\n",
    "    print(i)"
   ]
  },
  {
   "cell_type": "markdown",
   "id": "ce84a4df",
   "metadata": {},
   "source": [
    "### Join tuples:\n",
    "\n",
    "To join two or more tuples:\n",
    "- use + operator\n"
   ]
  },
  {
   "cell_type": "code",
   "execution_count": 64,
   "id": "baceae4a",
   "metadata": {},
   "outputs": [
    {
     "data": {
      "text/plain": [
       "('Melissa', 'Vidiera', 'Whisky', 1, 2, 3, 4, 5)"
      ]
     },
     "execution_count": 64,
     "metadata": {},
     "output_type": "execute_result"
    }
   ],
   "source": [
    "tup14= (\"Melissa\", \"Vidiera\", \"Whisky\")\n",
    "tup15= (1,2,3,4,5)\n",
    "\n",
    "\n",
    "tup16= tup14+ tup15\n",
    "tup16"
   ]
  },
  {
   "cell_type": "markdown",
   "id": "08f0657d",
   "metadata": {},
   "source": [
    "### multiply tuples\n",
    "\n"
   ]
  },
  {
   "cell_type": "code",
   "execution_count": 66,
   "id": "41c1a473",
   "metadata": {},
   "outputs": [
    {
     "data": {
      "text/plain": [
       "('Melissa',\n",
       " 'Vidiera',\n",
       " 'Whisky',\n",
       " 'Melissa',\n",
       " 'Vidiera',\n",
       " 'Whisky',\n",
       " 'Melissa',\n",
       " 'Vidiera',\n",
       " 'Whisky')"
      ]
     },
     "execution_count": 66,
     "metadata": {},
     "output_type": "execute_result"
    }
   ],
   "source": [
    "tup17= (\"Melissa\", \"Vidiera\", \"Whisky\")\n",
    "\n",
    "tup18= tup17*3\n",
    "tup18\n",
    "\n",
    "# multiply by whole tuple not item wise. That is Melissa wont be repeated thrice consecutively"
   ]
  },
  {
   "cell_type": "markdown",
   "id": "e09cd75b",
   "metadata": {},
   "source": [
    "### Tuple methods: count() index()"
   ]
  },
  {
   "cell_type": "code",
   "execution_count": 73,
   "id": "84240df8",
   "metadata": {},
   "outputs": [
    {
     "data": {
      "text/plain": [
       "2"
      ]
     },
     "execution_count": 73,
     "metadata": {},
     "output_type": "execute_result"
    }
   ],
   "source": [
    "tup18.index(\"Whisky\")"
   ]
  },
  {
   "cell_type": "code",
   "execution_count": 74,
   "id": "7ee00285",
   "metadata": {},
   "outputs": [
    {
     "ename": "ValueError",
     "evalue": "tuple.index(x): x not in tuple",
     "output_type": "error",
     "traceback": [
      "\u001b[1;31m---------------------------------------------------------------------------\u001b[0m",
      "\u001b[1;31mValueError\u001b[0m                                Traceback (most recent call last)",
      "Input \u001b[1;32mIn [74]\u001b[0m, in \u001b[0;36m<cell line: 1>\u001b[1;34m()\u001b[0m\n\u001b[1;32m----> 1\u001b[0m \u001b[43mtup18\u001b[49m\u001b[38;5;241;43m.\u001b[39;49m\u001b[43mindex\u001b[49m\u001b[43m(\u001b[49m\u001b[38;5;124;43m\"\u001b[39;49m\u001b[38;5;124;43mSourav\u001b[39;49m\u001b[38;5;124;43m\"\u001b[39;49m\u001b[43m)\u001b[49m\n",
      "\u001b[1;31mValueError\u001b[0m: tuple.index(x): x not in tuple"
     ]
    }
   ],
   "source": [
    "tup18.index(\"Sourav\")"
   ]
  },
  {
   "cell_type": "code",
   "execution_count": 70,
   "id": "7d0ad586",
   "metadata": {},
   "outputs": [
    {
     "data": {
      "text/plain": [
       "3"
      ]
     },
     "execution_count": 70,
     "metadata": {},
     "output_type": "execute_result"
    }
   ],
   "source": [
    "tup18.count(\"Melissa\")"
   ]
  },
  {
   "cell_type": "code",
   "execution_count": 76,
   "id": "55797aeb",
   "metadata": {},
   "outputs": [
    {
     "data": {
      "text/plain": [
       "0"
      ]
     },
     "execution_count": 76,
     "metadata": {},
     "output_type": "execute_result"
    }
   ],
   "source": [
    "tup18.count(\"Sourav\")"
   ]
  },
  {
   "cell_type": "code",
   "execution_count": null,
   "id": "8af99647",
   "metadata": {},
   "outputs": [],
   "source": []
  }
 ],
 "metadata": {
  "kernelspec": {
   "display_name": "Python 3 (ipykernel)",
   "language": "python",
   "name": "python3"
  },
  "language_info": {
   "codemirror_mode": {
    "name": "ipython",
    "version": 3
   },
   "file_extension": ".py",
   "mimetype": "text/x-python",
   "name": "python",
   "nbconvert_exporter": "python",
   "pygments_lexer": "ipython3",
   "version": "3.9.12"
  }
 },
 "nbformat": 4,
 "nbformat_minor": 5
}
