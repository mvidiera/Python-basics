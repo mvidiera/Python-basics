{
 "cells": [
  {
   "cell_type": "markdown",
   "id": "aa41bcde",
   "metadata": {},
   "source": [
    "### Sets:\n",
    "- stores multiple items in single variable.\n",
    "- it is unordered, unchangeable and unindexed.\n",
    "- Unordered: it is not ordered like other data types, any item can appear when I display or run\n",
    "- unindexed:\n",
    "- unchangeable: once the set has been created, cant be changed. but can be added \n",
    "- Duplicates are not allowed.\n"
   ]
  },
  {
   "cell_type": "code",
   "execution_count": 1,
   "id": "fb0a9ce5",
   "metadata": {},
   "outputs": [
    {
     "data": {
      "text/plain": [
       "{'Apple', 'Banana', 'Cherry'}"
      ]
     },
     "execution_count": 1,
     "metadata": {},
     "output_type": "execute_result"
    }
   ],
   "source": [
    "# Create a set\n",
    "\n",
    "set1= {\"Apple\", \"Banana\", \"Cherry\"}\n",
    "set1"
   ]
  },
  {
   "cell_type": "code",
   "execution_count": 2,
   "id": "7cac9724",
   "metadata": {},
   "outputs": [
    {
     "data": {
      "text/plain": [
       "set"
      ]
     },
     "execution_count": 2,
     "metadata": {},
     "output_type": "execute_result"
    }
   ],
   "source": [
    "type(set1)"
   ]
  },
  {
   "cell_type": "code",
   "execution_count": 3,
   "id": "a4788155",
   "metadata": {},
   "outputs": [
    {
     "data": {
      "text/plain": [
       "{'Apple', 'Banana', 'Cherry'}"
      ]
     },
     "execution_count": 3,
     "metadata": {},
     "output_type": "execute_result"
    }
   ],
   "source": [
    "# duplicates are not allowed\n",
    "set2= {\"Apple\", \"Banana\", \"Apple\", \"Cherry\"}\n",
    "set2"
   ]
  },
  {
   "cell_type": "code",
   "execution_count": 5,
   "id": "83dae372",
   "metadata": {},
   "outputs": [
    {
     "data": {
      "text/plain": [
       "{18.45, 1940, 'Apple', 'Banana', 'Cherry', False, 'Mango', True}"
      ]
     },
     "execution_count": 5,
     "metadata": {},
     "output_type": "execute_result"
    }
   ],
   "source": [
    "# can strore different data types\n",
    "\n",
    "set3= {\"Apple\", \"Banana\", \"Mango\",\"Apple\", \"Cherry\", True, False, 1940, 18.45}\n",
    "set3\n",
    "\n",
    "# set will be arranged alphabetically, thoiugh I have not declared like that. Unindexed."
   ]
  },
  {
   "cell_type": "code",
   "execution_count": 8,
   "id": "ae260861",
   "metadata": {},
   "outputs": [
    {
     "data": {
      "text/plain": [
       "{'Apple', 'Banana', 'Cherry', False, 'Mango', True}"
      ]
     },
     "execution_count": 8,
     "metadata": {},
     "output_type": "execute_result"
    }
   ],
   "source": [
    "# 0 in set will be considered as False and 1 as True. as there are already False and True, it will be considered \n",
    "# as duplicates and wont be displayed\n",
    "\n",
    "set4= {\"Apple\", \"Banana\", \"Mango\",\"Apple\", \"Cherry\", True, False, 0, 1}\n",
    "set4"
   ]
  },
  {
   "cell_type": "code",
   "execution_count": 9,
   "id": "7b990833",
   "metadata": {},
   "outputs": [
    {
     "data": {
      "text/plain": [
       "6"
      ]
     },
     "execution_count": 9,
     "metadata": {},
     "output_type": "execute_result"
    }
   ],
   "source": [
    "#length of set\n",
    "len(set4)"
   ]
  },
  {
   "cell_type": "code",
   "execution_count": 10,
   "id": "3a55dbe3",
   "metadata": {},
   "outputs": [
    {
     "data": {
      "text/plain": [
       "{'Apple', 'Banana', 'Cherry'}"
      ]
     },
     "execution_count": 10,
     "metadata": {},
     "output_type": "execute_result"
    }
   ],
   "source": [
    "# set constructor: \n",
    "# like other data type where I need to provide (( )) for constuctor, doesnt work for sets \n",
    "# keyword \"set\" has to be typed with (()) not {{}}\n",
    "\n",
    "\n",
    "set_constructor = set(( \"Apple\", \"Banana\", \"Cherry\"))\n",
    "set_constructor"
   ]
  },
  {
   "cell_type": "code",
   "execution_count": 11,
   "id": "54ff5c51",
   "metadata": {},
   "outputs": [
    {
     "data": {
      "text/plain": [
       "set"
      ]
     },
     "execution_count": 11,
     "metadata": {},
     "output_type": "execute_result"
    }
   ],
   "source": [
    "type(set_constructor)"
   ]
  },
  {
   "cell_type": "markdown",
   "id": "3900d340",
   "metadata": {},
   "source": [
    "### Access Set items\n",
    "- As sets don't have indices, it can be accessed using \"for loop\"\n",
    "- other way to acess is to see if the item is presenf int the set usng \"in\" keyword"
   ]
  },
  {
   "cell_type": "code",
   "execution_count": 12,
   "id": "05550a33",
   "metadata": {},
   "outputs": [
    {
     "name": "stdout",
     "output_type": "stream",
     "text": [
      "0\n",
      "True\n",
      "Cherry\n",
      "Apple\n",
      "Mango\n",
      "Banana\n"
     ]
    }
   ],
   "source": [
    "set4= {\"Apple\", \"Banana\", \"Mango\",\"Apple\", \"Cherry\", True, 0, 1}\n",
    "\n",
    "for i in set4:\n",
    "    print(i)"
   ]
  },
  {
   "cell_type": "code",
   "execution_count": 13,
   "id": "6f247dff",
   "metadata": {},
   "outputs": [
    {
     "name": "stdout",
     "output_type": "stream",
     "text": [
      "False\n"
     ]
    }
   ],
   "source": [
    "print( \"mango\" in set4)\n",
    "# case sensitive"
   ]
  },
  {
   "cell_type": "code",
   "execution_count": 14,
   "id": "c51cebf2",
   "metadata": {},
   "outputs": [
    {
     "name": "stdout",
     "output_type": "stream",
     "text": [
      "True\n"
     ]
    }
   ],
   "source": [
    "print( \"Mango\" in set4)"
   ]
  },
  {
   "cell_type": "code",
   "execution_count": 16,
   "id": "dcc5f61f",
   "metadata": {},
   "outputs": [
    {
     "name": "stdout",
     "output_type": "stream",
     "text": [
      "False\n"
     ]
    }
   ],
   "source": [
    "print(\"Banana\" not in set4)"
   ]
  },
  {
   "cell_type": "markdown",
   "id": "ab5dc767",
   "metadata": {},
   "source": [
    "### Adding set items:\n",
    "\n",
    "- Once the set has been created, it cant be changed. But items can be added. using add(). using add() only one item can be added.\n",
    "- to add more than one item, create another set with the items to be added and add that set to existing set using update()"
   ]
  },
  {
   "cell_type": "code",
   "execution_count": 17,
   "id": "4f82ce29",
   "metadata": {},
   "outputs": [
    {
     "data": {
      "text/plain": [
       "{'Apple', 'Banana', 'Cherry', 'Mango', 'watermelon'}"
      ]
     },
     "execution_count": 17,
     "metadata": {},
     "output_type": "execute_result"
    }
   ],
   "source": [
    "#add()\n",
    "set5= {\"Apple\", \"Banana\", \"Mango\",\"Apple\", \"Cherry\"}\n",
    "\n",
    "set5.add(\"watermelon\")\n",
    "\n",
    "set5"
   ]
  },
  {
   "cell_type": "code",
   "execution_count": 22,
   "id": "73ca5087",
   "metadata": {},
   "outputs": [
    {
     "ename": "TypeError",
     "evalue": "set.add() takes exactly one argument (2 given)",
     "output_type": "error",
     "traceback": [
      "\u001b[1;31m---------------------------------------------------------------------------\u001b[0m",
      "\u001b[1;31mTypeError\u001b[0m                                 Traceback (most recent call last)",
      "Input \u001b[1;32mIn [22]\u001b[0m, in \u001b[0;36m<cell line: 1>\u001b[1;34m()\u001b[0m\n\u001b[1;32m----> 1\u001b[0m \u001b[43mset5\u001b[49m\u001b[38;5;241;43m.\u001b[39;49m\u001b[43madd\u001b[49m\u001b[43m(\u001b[49m\u001b[38;5;124;43m'\u001b[39;49m\u001b[38;5;124;43mgrapes\u001b[39;49m\u001b[38;5;124;43m'\u001b[39;49m\u001b[43m,\u001b[49m\u001b[43m \u001b[49m\u001b[38;5;124;43m'\u001b[39;49m\u001b[38;5;124;43mwatermelon\u001b[39;49m\u001b[38;5;124;43m'\u001b[39;49m\u001b[43m)\u001b[49m\n\u001b[0;32m      2\u001b[0m set5\n",
      "\u001b[1;31mTypeError\u001b[0m: set.add() takes exactly one argument (2 given)"
     ]
    }
   ],
   "source": [
    "# with add() I can add only one item\n",
    "set5.add('grapes', 'watermelon')\n",
    "set5"
   ]
  },
  {
   "cell_type": "code",
   "execution_count": 21,
   "id": "8747fd1e",
   "metadata": {},
   "outputs": [
    {
     "data": {
      "text/plain": [
       "{'Apple', 'Banana', 'Cherry', 'Mango', 'grapes', 'papaya', 'watermelon'}"
      ]
     },
     "execution_count": 21,
     "metadata": {},
     "output_type": "execute_result"
    }
   ],
   "source": [
    "#  update()\n",
    "\n",
    "set6 = {\"Apple\", \"Banana\", \"Mango\",\"Apple\", \"Cherry\"}\n",
    "set7= {\"grapes\", \"watermelon\", \"papaya\"}\n",
    "\n",
    "set6.update(set7)\n",
    "set6\n",
    "\n",
    "\n",
    "#set6= set6.update(set7)-> assgining doesnt work\n"
   ]
  },
  {
   "cell_type": "markdown",
   "id": "9accd2d2",
   "metadata": {},
   "source": [
    "### Remove set items:\n",
    "\n",
    "1. remove(item)\n",
    "2. discard(item)\n",
    "3. pop(): this will randomly delete the item. As the set is unindexed.\n",
    "4. clear() will clear all the items from the set. But set exists\n",
    "5. del keyword will delete entire set, set doesnt exists.\n"
   ]
  },
  {
   "cell_type": "code",
   "execution_count": 23,
   "id": "845f74ba",
   "metadata": {},
   "outputs": [
    {
     "data": {
      "text/plain": [
       "{'Banana', 'Cherry', 'Mango', 'grapes', 'papaya', 'watermelon'}"
      ]
     },
     "execution_count": 23,
     "metadata": {},
     "output_type": "execute_result"
    }
   ],
   "source": [
    "# remove()\n",
    "\n",
    "set8= {'Apple', 'Banana', 'Cherry', 'Mango', 'grapes', 'papaya', 'watermelon'}\n",
    "set8.remove(\"Apple\")\n",
    "set8"
   ]
  },
  {
   "cell_type": "code",
   "execution_count": 27,
   "id": "bb18bd50",
   "metadata": {},
   "outputs": [
    {
     "ename": "KeyError",
     "evalue": "'carrot'",
     "output_type": "error",
     "traceback": [
      "\u001b[1;31m---------------------------------------------------------------------------\u001b[0m",
      "\u001b[1;31mKeyError\u001b[0m                                  Traceback (most recent call last)",
      "Input \u001b[1;32mIn [27]\u001b[0m, in \u001b[0;36m<cell line: 1>\u001b[1;34m()\u001b[0m\n\u001b[1;32m----> 1\u001b[0m \u001b[43mset8\u001b[49m\u001b[38;5;241;43m.\u001b[39;49m\u001b[43mremove\u001b[49m\u001b[43m(\u001b[49m\u001b[38;5;124;43m'\u001b[39;49m\u001b[38;5;124;43mcarrot\u001b[39;49m\u001b[38;5;124;43m'\u001b[39;49m\u001b[43m)\u001b[49m\n",
      "\u001b[1;31mKeyError\u001b[0m: 'carrot'"
     ]
    }
   ],
   "source": [
    "set8.remove('carrot')\n",
    "\n",
    "# it will throw error if I want to remove any item which doesnt exist in the set. "
   ]
  },
  {
   "cell_type": "code",
   "execution_count": 24,
   "id": "477fb7ae",
   "metadata": {},
   "outputs": [
    {
     "data": {
      "text/plain": [
       "{'Banana', 'Cherry', 'Mango', 'papaya', 'watermelon'}"
      ]
     },
     "execution_count": 24,
     "metadata": {},
     "output_type": "execute_result"
    }
   ],
   "source": [
    "#discard()\n",
    "\n",
    "set8.discard(\"grapes\")\n",
    "set8"
   ]
  },
  {
   "cell_type": "code",
   "execution_count": 26,
   "id": "701a7f58",
   "metadata": {},
   "outputs": [
    {
     "data": {
      "text/plain": [
       "{'Banana', 'Cherry', 'Mango', 'papaya', 'watermelon'}"
      ]
     },
     "execution_count": 26,
     "metadata": {},
     "output_type": "execute_result"
    }
   ],
   "source": [
    "set8.discard('carrot')\n",
    "set8\n",
    "# carrot doesnt exist, doesnt discard anything. doesnt throw an error."
   ]
  },
  {
   "cell_type": "code",
   "execution_count": 28,
   "id": "d02b2786",
   "metadata": {},
   "outputs": [
    {
     "name": "stdout",
     "output_type": "stream",
     "text": [
      "Cherry\n"
     ]
    }
   ],
   "source": [
    "x= set8.pop()\n",
    "print(x)"
   ]
  },
  {
   "cell_type": "code",
   "execution_count": 29,
   "id": "7ecfb8aa",
   "metadata": {},
   "outputs": [
    {
     "data": {
      "text/plain": [
       "{'Banana', 'Mango', 'papaya', 'watermelon'}"
      ]
     },
     "execution_count": 29,
     "metadata": {},
     "output_type": "execute_result"
    }
   ],
   "source": [
    "set8"
   ]
  },
  {
   "cell_type": "code",
   "execution_count": 30,
   "id": "d605ca5d",
   "metadata": {},
   "outputs": [
    {
     "data": {
      "text/plain": [
       "set()"
      ]
     },
     "execution_count": 30,
     "metadata": {},
     "output_type": "execute_result"
    }
   ],
   "source": [
    "# clear() clears all elements, return empty set\n",
    "set8.clear()\n",
    "set8\n"
   ]
  },
  {
   "cell_type": "code",
   "execution_count": 31,
   "id": "8351cf7f",
   "metadata": {},
   "outputs": [],
   "source": [
    "del set8"
   ]
  },
  {
   "cell_type": "code",
   "execution_count": 33,
   "id": "5d1420f8",
   "metadata": {},
   "outputs": [
    {
     "ename": "NameError",
     "evalue": "name 'set8' is not defined",
     "output_type": "error",
     "traceback": [
      "\u001b[1;31m---------------------------------------------------------------------------\u001b[0m",
      "\u001b[1;31mNameError\u001b[0m                                 Traceback (most recent call last)",
      "Input \u001b[1;32mIn [33]\u001b[0m, in \u001b[0;36m<cell line: 1>\u001b[1;34m()\u001b[0m\n\u001b[1;32m----> 1\u001b[0m \u001b[43mset8\u001b[49m\n",
      "\u001b[1;31mNameError\u001b[0m: name 'set8' is not defined"
     ]
    }
   ],
   "source": [
    "set8\n",
    "# after deleting, entire set doesnt exists"
   ]
  },
  {
   "cell_type": "markdown",
   "id": "6dc7e3a5",
   "metadata": {},
   "source": [
    "### Loop sets:\n",
    "\n",
    "- sets can be looped using for loop only"
   ]
  },
  {
   "cell_type": "code",
   "execution_count": 37,
   "id": "ce75d793",
   "metadata": {},
   "outputs": [
    {
     "name": "stdout",
     "output_type": "stream",
     "text": [
      "Cherry\n",
      "grapes\n",
      "Mango\n",
      "watermelon\n",
      "papaya\n",
      "Banana\n"
     ]
    }
   ],
   "source": [
    "set9= {'Banana', 'Cherry', 'Mango', 'grapes', 'papaya', 'watermelon'}\n",
    "\n",
    "\n",
    "for i in set9:\n",
    "    print(i)\n",
    "# as items are not indexed, items will be unordered. "
   ]
  },
  {
   "cell_type": "code",
   "execution_count": 38,
   "id": "d4dba565",
   "metadata": {},
   "outputs": [
    {
     "name": "stdout",
     "output_type": "stream",
     "text": [
      "0\n",
      "1\n",
      "Mango\n",
      "papaya\n",
      "Cherry\n",
      "Apple\n",
      "grapes\n",
      "watermelon\n",
      "Banana\n"
     ]
    }
   ],
   "source": [
    "set10= {'Apple', 'Banana', 'Cherry', 'Mango', 'grapes', 'papaya', 'watermelon', 0, 1, True, False}\n",
    "\n",
    "\n",
    "for i in set10: \n",
    "    print(i)"
   ]
  },
  {
   "cell_type": "markdown",
   "id": "d51454c5",
   "metadata": {},
   "source": [
    "### join sets:\n",
    "\n",
    "There are 5 ways to join 2 or more sets. \n",
    "\n",
    "1. union() : joins all items from 2 or more sets\n",
    "2. update() : same as union(), joins all items from 2 or more sets.\n",
    "- both union() and update() discard duplicates.\n",
    "3. intersection(): it keeps only the duplicates. Intersection from both set. \n",
    "4. difference(): set has 6 items and set2 has 4. this keeps only the difference that is 2 in set1 which are not in set 2 or other sets.\n",
    "5. symmetric_difference(): this keeps all the items except duplicates."
   ]
  },
  {
   "cell_type": "code",
   "execution_count": 39,
   "id": "319eb6db",
   "metadata": {},
   "outputs": [
    {
     "data": {
      "text/plain": [
       "{1, 2, 3, 'a', 'b', 'c'}"
      ]
     },
     "execution_count": 39,
     "metadata": {},
     "output_type": "execute_result"
    }
   ],
   "source": [
    "#union()\n",
    "set11= {\"a\", \"b\", \"c\"}\n",
    "set12= {1, 2, 3}\n",
    "\n",
    "set13= set11.union(set12)\n",
    "set13"
   ]
  },
  {
   "cell_type": "code",
   "execution_count": 41,
   "id": "2135b8d8",
   "metadata": {},
   "outputs": [
    {
     "data": {
      "text/plain": [
       "{1, 2, 3, 'a', 'b', 'c'}"
      ]
     },
     "execution_count": 41,
     "metadata": {},
     "output_type": "execute_result"
    }
   ],
   "source": [
    "# without using extra var\n",
    "set11 = set11.union(set12)\n",
    "set11"
   ]
  },
  {
   "cell_type": "code",
   "execution_count": 42,
   "id": "52581e3a",
   "metadata": {},
   "outputs": [
    {
     "data": {
      "text/plain": [
       "{1, 2, 3, 'a', 'b', 'c'}"
      ]
     },
     "execution_count": 42,
     "metadata": {},
     "output_type": "execute_result"
    }
   ],
   "source": [
    "# instead of using union() I can use | \n",
    "\n",
    "set11= {\"a\", \"b\", \"c\"}\n",
    "set12= {1, 2, 3}\n",
    "\n",
    "set13= set11 | set12\n",
    "set13"
   ]
  },
  {
   "cell_type": "code",
   "execution_count": 44,
   "id": "2a88e660",
   "metadata": {},
   "outputs": [
    {
     "data": {
      "text/plain": [
       "{1, 2, 3, 'Elena', 'John', 'a', 'apple', 'b', 'bananas', 'c', 'cherry'}"
      ]
     },
     "execution_count": 44,
     "metadata": {},
     "output_type": "execute_result"
    }
   ],
   "source": [
    "# joining multiple sets using union()\n",
    "\n",
    "set1 = {\"a\", \"b\", \"c\"}\n",
    "set2 = {1, 2, 3}\n",
    "set3 = {\"John\", \"Elena\"}\n",
    "set4 = {\"apple\", \"bananas\", \"cherry\"}\n",
    "\n",
    "set5= set1.union(set2, set3, set4)\n",
    "set5"
   ]
  },
  {
   "cell_type": "code",
   "execution_count": 45,
   "id": "52497b2c",
   "metadata": {},
   "outputs": [
    {
     "data": {
      "text/plain": [
       "{1, 2, 3, 'Elena', 'John', 'a', 'apple', 'b', 'bananas', 'c', 'cherry'}"
      ]
     },
     "execution_count": 45,
     "metadata": {},
     "output_type": "execute_result"
    }
   ],
   "source": [
    "\n",
    "set1 = {\"a\", \"b\", \"c\"}\n",
    "set2 = {1, 2, 3}\n",
    "set3 = {\"John\", \"Elena\"}\n",
    "set4 = {\"apple\", \"bananas\", \"cherry\"}\n",
    "\n",
    "set5= set1|set2|set3|set4\n",
    "set5"
   ]
  },
  {
   "cell_type": "code",
   "execution_count": 48,
   "id": "8438e0e3",
   "metadata": {},
   "outputs": [
    {
     "data": {
      "text/plain": [
       "{1, 2, 3, 4, 'A', 'b'}"
      ]
     },
     "execution_count": 48,
     "metadata": {},
     "output_type": "execute_result"
    }
   ],
   "source": [
    "# with help of union, I can join set and tuple as well\n",
    "\n",
    "x= {1,2,3,4}\n",
    "y= ('A', 'b')\n",
    "\n",
    "x= x.union(y)\n",
    "x"
   ]
  },
  {
   "cell_type": "code",
   "execution_count": 49,
   "id": "9d1525cc",
   "metadata": {},
   "outputs": [
    {
     "data": {
      "text/plain": [
       "{1, 2, 3, 4, 'A', 'b'}"
      ]
     },
     "execution_count": 49,
     "metadata": {},
     "output_type": "execute_result"
    }
   ],
   "source": [
    "# 2. update\n",
    "\n",
    "x= {1,2,3,4}\n",
    "y= ('A', 'b')\n",
    "\n",
    "x.update(y)\n",
    "x\n"
   ]
  },
  {
   "cell_type": "code",
   "execution_count": 51,
   "id": "a216dcdb",
   "metadata": {},
   "outputs": [
    {
     "data": {
      "text/plain": [
       "{'apple'}"
      ]
     },
     "execution_count": 51,
     "metadata": {},
     "output_type": "execute_result"
    }
   ],
   "source": [
    "# 3. Intersection:\n",
    "\n",
    "set1 = {\"apple\", \"banana\", \"cherry\"}\n",
    "set2 = {\"google\", \"microsoft\", \"apple\"}\n",
    "\n",
    "set3= set1.intersection(set2)\n",
    "set3"
   ]
  },
  {
   "cell_type": "code",
   "execution_count": 53,
   "id": "dd2f9ae2",
   "metadata": {},
   "outputs": [
    {
     "data": {
      "text/plain": [
       "set()"
      ]
     },
     "execution_count": 53,
     "metadata": {},
     "output_type": "execute_result"
    }
   ],
   "source": [
    "#if there is no common item, it returns empty set\n",
    "set1 = {\"apple\", \"banana\", \"cherry\"}\n",
    "set2 = {\"google\", \"microsoft\"}\n",
    "\n",
    "set3= set1.intersection(set2)\n",
    "set3"
   ]
  },
  {
   "cell_type": "code",
   "execution_count": 55,
   "id": "8c00cbcd",
   "metadata": {},
   "outputs": [
    {
     "data": {
      "text/plain": [
       "{'apple'}"
      ]
     },
     "execution_count": 55,
     "metadata": {},
     "output_type": "execute_result"
    }
   ],
   "source": [
    "# I can use & operation for set intersection as well. \n",
    "set1 = {\"apple\", \"banana\", \"cherry\"}\n",
    "set2 = {\"google\", \"microsoft\", \"apple\"}\n",
    "\n",
    "set3= set1&set2\n",
    "set3"
   ]
  },
  {
   "cell_type": "code",
   "execution_count": 56,
   "id": "9d9e5a9e",
   "metadata": {},
   "outputs": [
    {
     "data": {
      "text/plain": [
       "{'apple'}"
      ]
     },
     "execution_count": 56,
     "metadata": {},
     "output_type": "execute_result"
    }
   ],
   "source": [
    "set1 = {\"apple\", \"banana\", \"cherry\"}\n",
    "set2 = {\"google\", \"microsoft\", \"apple\"}\n",
    "\n",
    "set1.intersection(set2)\n"
   ]
  },
  {
   "cell_type": "code",
   "execution_count": 58,
   "id": "d7e6f4a4",
   "metadata": {},
   "outputs": [
    {
     "data": {
      "text/plain": [
       "{'apple'}"
      ]
     },
     "execution_count": 58,
     "metadata": {},
     "output_type": "execute_result"
    }
   ],
   "source": [
    "set1"
   ]
  },
  {
   "cell_type": "code",
   "execution_count": 59,
   "id": "319ad88a",
   "metadata": {},
   "outputs": [
    {
     "data": {
      "text/plain": [
       "{'apple'}"
      ]
     },
     "execution_count": 59,
     "metadata": {},
     "output_type": "execute_result"
    }
   ],
   "source": [
    "# instead of just returning new set with only common items, intersection_update() will change the original set \n",
    "\n",
    "set1 = {\"apple\", \"banana\", \"cherry\"}\n",
    "set2 = {\"google\", \"microsoft\", \"apple\"}\n",
    "\n",
    "set1.intersection_update(set2)\n",
    "set1"
   ]
  },
  {
   "cell_type": "code",
   "execution_count": 60,
   "id": "e52a5cbe",
   "metadata": {},
   "outputs": [
    {
     "data": {
      "text/plain": [
       "{'apple'}"
      ]
     },
     "execution_count": 60,
     "metadata": {},
     "output_type": "execute_result"
    }
   ],
   "source": [
    "set1"
   ]
  },
  {
   "cell_type": "code",
   "execution_count": 62,
   "id": "d89bb366",
   "metadata": {},
   "outputs": [
    {
     "data": {
      "text/plain": [
       "{1, False, 'apple'}"
      ]
     },
     "execution_count": 62,
     "metadata": {},
     "output_type": "execute_result"
    }
   ],
   "source": [
    "# sets will discard duplicates. set see True and False as duplicates.\n",
    "\n",
    "set1 = {\"apple\", 1,  \"banana\", 0, \"cherry\"}\n",
    "set2 = {False, \"google\", 1, \"apple\", 2, True}\n",
    "\n",
    "set3= set1.intersection(set2)\n",
    "set3\n",
    "\n",
    "# common ones are apple in both set. set1 has 0 and set 2 has False. so intersected set has False. "
   ]
  },
  {
   "cell_type": "code",
   "execution_count": 63,
   "id": "29969ec6",
   "metadata": {},
   "outputs": [
    {
     "data": {
      "text/plain": [
       "{'banana', 'cherry'}"
      ]
     },
     "execution_count": 63,
     "metadata": {},
     "output_type": "execute_result"
    }
   ],
   "source": [
    "# 4. difference:\n",
    "# return the set which is in set1 and not in set2\n",
    "\n",
    "set1 = {\"apple\", \"banana\", \"cherry\"}\n",
    "set2 = {\"google\", \"microsoft\", \"apple\"}\n",
    "\n",
    "set3= set1.difference(set2)\n",
    "set3"
   ]
  },
  {
   "cell_type": "code",
   "execution_count": 65,
   "id": "47af2226",
   "metadata": {},
   "outputs": [
    {
     "data": {
      "text/plain": [
       "set()"
      ]
     },
     "execution_count": 65,
     "metadata": {},
     "output_type": "execute_result"
    }
   ],
   "source": [
    "set1 = {\"google\", \"microsoft\"}\n",
    "set2 = {\"google\", \"microsoft\", \"apple\"}\n",
    "\n",
    "set3= set1.difference(set2)\n",
    "set3\n",
    "\n",
    "# google and MS is in both sets. there is nothing in set1 which is not in set2. it returns empty set\n"
   ]
  },
  {
   "cell_type": "code",
   "execution_count": 66,
   "id": "7f03c288",
   "metadata": {},
   "outputs": [
    {
     "data": {
      "text/plain": [
       "{'banana', 'cherry'}"
      ]
     },
     "execution_count": 66,
     "metadata": {},
     "output_type": "execute_result"
    }
   ],
   "source": [
    "# using - operand for difference\n",
    "\n",
    "\n",
    "set1 = {\"apple\", \"banana\", \"cherry\"}\n",
    "set2 = {\"google\", \"microsoft\", \"apple\"}\n",
    "\n",
    "set3= set1 - set2\n",
    "set3"
   ]
  },
  {
   "cell_type": "code",
   "execution_count": 67,
   "id": "e2d86ae8",
   "metadata": {},
   "outputs": [
    {
     "name": "stdout",
     "output_type": "stream",
     "text": [
      "{'banana', 'cherry'}\n"
     ]
    }
   ],
   "source": [
    "# difference_update()\n",
    "\n",
    "set1 = {\"apple\", \"banana\", \"cherry\"}\n",
    "set2 = {\"google\", \"microsoft\", \"apple\"}\n",
    "\n",
    "set1.difference_update(set2)\n",
    "\n",
    "print(set1)"
   ]
  },
  {
   "cell_type": "code",
   "execution_count": 71,
   "id": "ac0cb7f1",
   "metadata": {},
   "outputs": [
    {
     "data": {
      "text/plain": [
       "{'banana', 'microsoft'}"
      ]
     },
     "execution_count": 71,
     "metadata": {},
     "output_type": "execute_result"
    }
   ],
   "source": [
    "# 5. symmetric difference()\n",
    "# this keeps items which are not present in both. opposite of intersection()\n",
    "\n",
    "set1 = {\"apple\", \"banana\", \"google\"}\n",
    "set2 = {\"google\", \"microsoft\", \"apple\"}\n",
    "\n",
    "set3= set1.symmetric_difference(set2)\n",
    "set3"
   ]
  },
  {
   "cell_type": "code",
   "execution_count": 72,
   "id": "08cdc1a6",
   "metadata": {},
   "outputs": [
    {
     "data": {
      "text/plain": [
       "{'banana', 'microsoft'}"
      ]
     },
     "execution_count": 72,
     "metadata": {},
     "output_type": "execute_result"
    }
   ],
   "source": [
    "# can use ^ operator for symmetric_difference()\n",
    "\n",
    "set1 = {\"apple\", \"banana\", \"google\"}\n",
    "set2 = {\"google\", \"microsoft\", \"apple\"}\n",
    "\n",
    "set3= set1^set2\n",
    "set3\n"
   ]
  },
  {
   "cell_type": "code",
   "execution_count": 77,
   "id": "a9858a58",
   "metadata": {},
   "outputs": [
    {
     "data": {
      "text/plain": [
       "{'banana', 'microsoft'}"
      ]
     },
     "execution_count": 77,
     "metadata": {},
     "output_type": "execute_result"
    }
   ],
   "source": [
    "# symmetric_difference_update(): no need of extra variable\n",
    "\n",
    "\n",
    "\n",
    "set1 = {\"apple\", \"banana\", \"google\"}\n",
    "set2 = {\"google\", \"microsoft\", \"apple\"}\n",
    "\n",
    "set1.symmetric_difference_update(set2)\n",
    "set1"
   ]
  },
  {
   "cell_type": "code",
   "execution_count": 79,
   "id": "4c6f88bd",
   "metadata": {},
   "outputs": [
    {
     "data": {
      "text/plain": [
       "{'apple', 'banana', 'google'}"
      ]
     },
     "execution_count": 79,
     "metadata": {},
     "output_type": "execute_result"
    }
   ],
   "source": [
    "set1 = {\"apple\", \"banana\", \"google\"}\n",
    "\n",
    "copy_set1= set1.copy()\n",
    "copy_set1"
   ]
  },
  {
   "cell_type": "code",
   "execution_count": 80,
   "id": "eeeb432e",
   "metadata": {},
   "outputs": [
    {
     "data": {
      "text/plain": [
       "True"
      ]
     },
     "execution_count": 80,
     "metadata": {},
     "output_type": "execute_result"
    }
   ],
   "source": [
    "# check if set 1 is subset of set2: issubset()\n",
    "\n",
    "set1 = {\"apple\", \"banana\"}\n",
    "set2 = {\"google\", \"microsoft\", \"apple\", \"banana\"}\n",
    "\n",
    "set1.issubset(set2)"
   ]
  },
  {
   "cell_type": "code",
   "execution_count": 82,
   "id": "d37fc2f1",
   "metadata": {},
   "outputs": [
    {
     "data": {
      "text/plain": [
       "True"
      ]
     },
     "execution_count": 82,
     "metadata": {},
     "output_type": "execute_result"
    }
   ],
   "source": [
    "# to check if set1 is  superset of set2: issuperset()\n",
    "\n",
    "set2.issuperset(set1)"
   ]
  },
  {
   "cell_type": "code",
   "execution_count": 84,
   "id": "5fcc371b",
   "metadata": {},
   "outputs": [
    {
     "data": {
      "text/plain": [
       "True"
      ]
     },
     "execution_count": 84,
     "metadata": {},
     "output_type": "execute_result"
    }
   ],
   "source": [
    "#isdisjoint(): to check if no item is repeated in any set\n",
    "\n",
    "set1 = {\"Cherry\", \"mango\"}\n",
    "set2 = {\"google\", \"microsoft\", \"apple\", \"banana\"}\n",
    "\n",
    "set1.isdisjoint(set2)"
   ]
  },
  {
   "cell_type": "code",
   "execution_count": null,
   "id": "5cbdb642",
   "metadata": {},
   "outputs": [],
   "source": []
  }
 ],
 "metadata": {
  "kernelspec": {
   "display_name": "Python 3 (ipykernel)",
   "language": "python",
   "name": "python3"
  },
  "language_info": {
   "codemirror_mode": {
    "name": "ipython",
    "version": 3
   },
   "file_extension": ".py",
   "mimetype": "text/x-python",
   "name": "python",
   "nbconvert_exporter": "python",
   "pygments_lexer": "ipython3",
   "version": "3.9.12"
  }
 },
 "nbformat": 4,
 "nbformat_minor": 5
}
