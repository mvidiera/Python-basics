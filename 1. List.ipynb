{
 "cells": [
  {
   "cell_type": "code",
   "execution_count": 1,
   "id": "009d0133",
   "metadata": {},
   "outputs": [],
   "source": [
    "list1= ['Melissa', \"Whisky\", \"Sourav\"]\n"
   ]
  },
  {
   "cell_type": "code",
   "execution_count": 2,
   "id": "6853514d",
   "metadata": {},
   "outputs": [
    {
     "data": {
      "text/plain": [
       "['Melissa', 'Whisky', 'Sourav']"
      ]
     },
     "execution_count": 2,
     "metadata": {},
     "output_type": "execute_result"
    }
   ],
   "source": [
    "list1"
   ]
  },
  {
   "cell_type": "code",
   "execution_count": 3,
   "id": "d6c8d016",
   "metadata": {},
   "outputs": [
    {
     "name": "stdout",
     "output_type": "stream",
     "text": [
      "['Melissa', 'Whisky', 'Sourav']\n"
     ]
    }
   ],
   "source": [
    "print(list1)"
   ]
  },
  {
   "cell_type": "markdown",
   "id": "fbfab716",
   "metadata": {},
   "source": [
    "- there are 4 built in data types: list, Tuples, Set and Dictionary\n",
    "- Ordered \n",
    "- new one will be placed at end of list\n",
    "- changeable: add, remove, chnage items\n",
    "- Allow duplicates\n"
   ]
  },
  {
   "cell_type": "code",
   "execution_count": 4,
   "id": "98866559",
   "metadata": {},
   "outputs": [
    {
     "data": {
      "text/plain": [
       "3"
      ]
     },
     "execution_count": 4,
     "metadata": {},
     "output_type": "execute_result"
    }
   ],
   "source": [
    "#length\n",
    "\n",
    "len(list1)"
   ]
  },
  {
   "cell_type": "code",
   "execution_count": 5,
   "id": "72619550",
   "metadata": {},
   "outputs": [
    {
     "name": "stdout",
     "output_type": "stream",
     "text": [
      "3\n"
     ]
    }
   ],
   "source": [
    "print(len(list1))"
   ]
  },
  {
   "cell_type": "code",
   "execution_count": 6,
   "id": "935862a6",
   "metadata": {},
   "outputs": [
    {
     "data": {
      "text/plain": [
       "['Melissa', 1, 56.6, 'Whisky', True, False, 'Sourav']"
      ]
     },
     "execution_count": 6,
     "metadata": {},
     "output_type": "execute_result"
    }
   ],
   "source": [
    "# data types\n",
    "\n",
    "list2= ['Melissa', 1, 56.6, \"Whisky\", True, False, \"Sourav\"]\n",
    "list2"
   ]
  },
  {
   "cell_type": "code",
   "execution_count": 7,
   "id": "b495e424",
   "metadata": {},
   "outputs": [
    {
     "data": {
      "text/plain": [
       "list"
      ]
     },
     "execution_count": 7,
     "metadata": {},
     "output_type": "execute_result"
    }
   ],
   "source": [
    "# type\n",
    "\n",
    "type(list2)"
   ]
  },
  {
   "cell_type": "code",
   "execution_count": 9,
   "id": "22257759",
   "metadata": {},
   "outputs": [],
   "source": [
    "# list constuctor: double bracket\n",
    "\n",
    "list_constructor= list((\"this\", \"is\", \"list\", \"constructor\"))"
   ]
  },
  {
   "cell_type": "code",
   "execution_count": 10,
   "id": "e69c8bf5",
   "metadata": {},
   "outputs": [
    {
     "data": {
      "text/plain": [
       "['this', 'is', 'list', 'constructor']"
      ]
     },
     "execution_count": 10,
     "metadata": {},
     "output_type": "execute_result"
    }
   ],
   "source": [
    "list_constructor"
   ]
  },
  {
   "cell_type": "code",
   "execution_count": 11,
   "id": "9132156f",
   "metadata": {},
   "outputs": [
    {
     "data": {
      "text/plain": [
       "list"
      ]
     },
     "execution_count": 11,
     "metadata": {},
     "output_type": "execute_result"
    }
   ],
   "source": [
    "type(list_constructor)"
   ]
  },
  {
   "cell_type": "code",
   "execution_count": 12,
   "id": "08859b6b",
   "metadata": {},
   "outputs": [
    {
     "data": {
      "text/plain": [
       "'Whisky'"
      ]
     },
     "execution_count": 12,
     "metadata": {},
     "output_type": "execute_result"
    }
   ],
   "source": [
    "# accessing\n",
    "\n",
    "list2[3]"
   ]
  },
  {
   "cell_type": "code",
   "execution_count": 13,
   "id": "a7cc2dc7",
   "metadata": {},
   "outputs": [
    {
     "data": {
      "text/plain": [
       "'Sourav'"
      ]
     },
     "execution_count": 13,
     "metadata": {},
     "output_type": "execute_result"
    }
   ],
   "source": [
    "# access last item \n",
    "\n",
    "list2[-1]"
   ]
  },
  {
   "cell_type": "code",
   "execution_count": 15,
   "id": "c0dca379",
   "metadata": {},
   "outputs": [
    {
     "data": {
      "text/plain": [
       "['Melissa', 1, 56.6, 'Whisky', True, False, 'Sourav']"
      ]
     },
     "execution_count": 15,
     "metadata": {},
     "output_type": "execute_result"
    }
   ],
   "source": [
    "list2"
   ]
  },
  {
   "cell_type": "code",
   "execution_count": 14,
   "id": "b49d80b1",
   "metadata": {},
   "outputs": [
    {
     "data": {
      "text/plain": [
       "[56.6, 'Whisky']"
      ]
     },
     "execution_count": 14,
     "metadata": {},
     "output_type": "execute_result"
    }
   ],
   "source": [
    "# return range of index\n",
    "\n",
    "list2[2:4] \n",
    "#this returns from index 2 till 4. 4th index is discarded "
   ]
  },
  {
   "cell_type": "code",
   "execution_count": 16,
   "id": "2e579e96",
   "metadata": {},
   "outputs": [],
   "source": [
    "# print from beginning and not kiwi\n",
    "\n",
    "list3= [\"apple\", \"banana\", \"cherry\", \"orange\", \"kiwi\", \"melon\", \"mango\"]"
   ]
  },
  {
   "cell_type": "code",
   "execution_count": 18,
   "id": "e76378cd",
   "metadata": {},
   "outputs": [
    {
     "data": {
      "text/plain": [
       "['apple', 'banana', 'cherry', 'orange']"
      ]
     },
     "execution_count": 18,
     "metadata": {},
     "output_type": "execute_result"
    }
   ],
   "source": [
    "list3[:4]"
   ]
  },
  {
   "cell_type": "code",
   "execution_count": 19,
   "id": "bedc964e",
   "metadata": {},
   "outputs": [
    {
     "data": {
      "text/plain": [
       "['cherry', 'orange', 'kiwi', 'melon', 'mango']"
      ]
     },
     "execution_count": 19,
     "metadata": {},
     "output_type": "execute_result"
    }
   ],
   "source": [
    "# from cherry till end \n",
    "list3[2:]"
   ]
  },
  {
   "cell_type": "code",
   "execution_count": 20,
   "id": "8541ccb8",
   "metadata": {},
   "outputs": [
    {
     "data": {
      "text/plain": [
       "['orange', 'kiwi', 'melon']"
      ]
     },
     "execution_count": 20,
     "metadata": {},
     "output_type": "execute_result"
    }
   ],
   "source": [
    "# return items from orange but not mango \n",
    "list3[-4: -1]"
   ]
  },
  {
   "cell_type": "code",
   "execution_count": 22,
   "id": "10d60add",
   "metadata": {},
   "outputs": [
    {
     "data": {
      "text/plain": [
       "['orange', 'kiwi', 'melon']"
      ]
     },
     "execution_count": 22,
     "metadata": {},
     "output_type": "execute_result"
    }
   ],
   "source": [
    "list3[3:6]\n"
   ]
  },
  {
   "cell_type": "code",
   "execution_count": 25,
   "id": "dbeacd4f",
   "metadata": {},
   "outputs": [
    {
     "name": "stdout",
     "output_type": "stream",
     "text": [
      "Kiwi exists in fruit list\n"
     ]
    }
   ],
   "source": [
    "# to check if item exists\n",
    "\n",
    "if \"kiwi\" in list3:\n",
    "    print(\"Kiwi exists in fruit list\")"
   ]
  },
  {
   "cell_type": "code",
   "execution_count": 27,
   "id": "d79a681b",
   "metadata": {},
   "outputs": [
    {
     "name": "stdout",
     "output_type": "stream",
     "text": [
      "Melissa doesnt exist in list\n"
     ]
    }
   ],
   "source": [
    "if \"melissa\" in list3:\n",
    "    print(\"Melissa exists in list\")\n",
    "else:\n",
    "    print(\"Melissa doesnt exist in list\")"
   ]
  },
  {
   "cell_type": "code",
   "execution_count": 31,
   "id": "42e72713",
   "metadata": {},
   "outputs": [
    {
     "data": {
      "text/plain": [
       "['apple', 'banana', 'cherry', 'orange', 'kiwi', 'melon', 'mango']"
      ]
     },
     "execution_count": 31,
     "metadata": {},
     "output_type": "execute_result"
    }
   ],
   "source": [
    "# Change item value\n",
    "list3"
   ]
  },
  {
   "cell_type": "code",
   "execution_count": 32,
   "id": "34392b05",
   "metadata": {},
   "outputs": [
    {
     "data": {
      "text/plain": [
       "['apple', 'banana', 'cherry', 'papaya', 'kiwi', 'melon', 'mango']"
      ]
     },
     "execution_count": 32,
     "metadata": {},
     "output_type": "execute_result"
    }
   ],
   "source": [
    "list3[3] = \"papaya\"\n",
    "list3"
   ]
  },
  {
   "cell_type": "code",
   "execution_count": 33,
   "id": "06028268",
   "metadata": {},
   "outputs": [
    {
     "data": {
      "text/plain": [
       "['apple', 'strawberry', 'watermelon', 'papaya', 'kiwi', 'melon', 'mango']"
      ]
     },
     "execution_count": 33,
     "metadata": {},
     "output_type": "execute_result"
    }
   ],
   "source": [
    "# change the range of items\n",
    "\n",
    "list3[1:3]= [\"strawberry\", \"watermelon\"]\n",
    "list3"
   ]
  },
  {
   "cell_type": "code",
   "execution_count": 34,
   "id": "b2307eb7",
   "metadata": {},
   "outputs": [
    {
     "ename": "IndexError",
     "evalue": "list assignment index out of range",
     "output_type": "error",
     "traceback": [
      "\u001b[1;31m---------------------------------------------------------------------------\u001b[0m",
      "\u001b[1;31mIndexError\u001b[0m                                Traceback (most recent call last)",
      "Input \u001b[1;32mIn [34]\u001b[0m, in \u001b[0;36m<cell line: 1>\u001b[1;34m()\u001b[0m\n\u001b[1;32m----> 1\u001b[0m list3[\u001b[38;5;241m7\u001b[39m]\u001b[38;5;241m=\u001b[39m \u001b[38;5;124m\"\u001b[39m\u001b[38;5;124mtomato\u001b[39m\u001b[38;5;124m\"\u001b[39m\n",
      "\u001b[1;31mIndexError\u001b[0m: list assignment index out of range"
     ]
    }
   ],
   "source": [
    "# cant add new item by using index\n",
    "list3[7]= \"tomato\""
   ]
  },
  {
   "cell_type": "code",
   "execution_count": 35,
   "id": "ee5bc0bf",
   "metadata": {},
   "outputs": [
    {
     "data": {
      "text/plain": [
       "['apple',\n",
       " 'Melissa',\n",
       " 'Vidiera',\n",
       " 'watermelon',\n",
       " 'papaya',\n",
       " 'kiwi',\n",
       " 'melon',\n",
       " 'mango']"
      ]
     },
     "execution_count": 35,
     "metadata": {},
     "output_type": "execute_result"
    }
   ],
   "source": [
    "# replace 2nd index with 2 new values\n",
    "# changes from strawberry to Melissa Vidiera\n",
    "list3[1:2]= [\"Melissa\", \"Vidiera\"]\n",
    "list3"
   ]
  },
  {
   "cell_type": "code",
   "execution_count": 37,
   "id": "9df46580",
   "metadata": {},
   "outputs": [
    {
     "data": {
      "text/plain": [
       "['apple',\n",
       " ['Whisky', 'Vidiera'],\n",
       " 'Vidiera',\n",
       " 'watermelon',\n",
       " 'papaya',\n",
       " 'kiwi',\n",
       " 'melon',\n",
       " 'mango']"
      ]
     },
     "execution_count": 37,
     "metadata": {},
     "output_type": "execute_result"
    }
   ],
   "source": [
    "#I cant replace one value with 2 value using one index. it will be replaced as list.\n",
    "\n",
    "list3[1]= [\"Whisky\", \"Vidiera\"]\n",
    "list3"
   ]
  },
  {
   "cell_type": "markdown",
   "id": "a1808d79",
   "metadata": {},
   "source": [
    "### Add list items\n",
    "\n",
    "1. list.append(\"item\"): add item at the end\n",
    "2. list.insert(index,\"item\")\n",
    "3. list.extend(list2): here list2 is appended to list1\n"
   ]
  },
  {
   "cell_type": "code",
   "execution_count": 41,
   "id": "3af6f924",
   "metadata": {},
   "outputs": [],
   "source": [
    "# using apend\n",
    "\n",
    "list4= ['apple', 'banana', 'cherry', 'orange', 'kiwi', 'melon', 'mango']"
   ]
  },
  {
   "cell_type": "code",
   "execution_count": 42,
   "id": "ddd9d7db",
   "metadata": {},
   "outputs": [],
   "source": [
    "list4.append(\"Grapes\")"
   ]
  },
  {
   "cell_type": "code",
   "execution_count": 43,
   "id": "3c068a41",
   "metadata": {},
   "outputs": [
    {
     "data": {
      "text/plain": [
       "['apple', 'banana', 'cherry', 'orange', 'kiwi', 'melon', 'mango', 'Grapes']"
      ]
     },
     "execution_count": 43,
     "metadata": {},
     "output_type": "execute_result"
    }
   ],
   "source": [
    "list4"
   ]
  },
  {
   "cell_type": "code",
   "execution_count": 45,
   "id": "cd291805",
   "metadata": {},
   "outputs": [
    {
     "data": {
      "text/plain": [
       "['apple',\n",
       " 'pomagranate',\n",
       " 'pomagranate',\n",
       " 'banana',\n",
       " 'cherry',\n",
       " 'orange',\n",
       " 'kiwi',\n",
       " 'melon',\n",
       " 'mango',\n",
       " 'Grapes']"
      ]
     },
     "execution_count": 45,
     "metadata": {},
     "output_type": "execute_result"
    }
   ],
   "source": [
    "# insert\n",
    "\n",
    "list4.insert(1, \"pomagranate\")\n",
    "list4\n",
    "\n",
    "# I ran this piece of code twice hence it is showing pomagranate twice, added to index 2 twice"
   ]
  },
  {
   "cell_type": "code",
   "execution_count": 47,
   "id": "b836c34d",
   "metadata": {},
   "outputs": [
    {
     "ename": "AttributeError",
     "evalue": "'NoneType' object has no attribute 'extend'",
     "output_type": "error",
     "traceback": [
      "\u001b[1;31m---------------------------------------------------------------------------\u001b[0m",
      "\u001b[1;31mAttributeError\u001b[0m                            Traceback (most recent call last)",
      "Input \u001b[1;32mIn [47]\u001b[0m, in \u001b[0;36m<cell line: 2>\u001b[1;34m()\u001b[0m\n\u001b[0;32m      1\u001b[0m veggies\u001b[38;5;241m=\u001b[39m[\u001b[38;5;124m'\u001b[39m\u001b[38;5;124mCarrot\u001b[39m\u001b[38;5;124m'\u001b[39m, \u001b[38;5;124m\"\u001b[39m\u001b[38;5;124mbeet\u001b[39m\u001b[38;5;124m\"\u001b[39m,\u001b[38;5;124m\"\u001b[39m\u001b[38;5;124mcucumber\u001b[39m\u001b[38;5;124m\"\u001b[39m]\n\u001b[1;32m----> 2\u001b[0m list4\u001b[38;5;241m=\u001b[39m \u001b[43mlist4\u001b[49m\u001b[38;5;241;43m.\u001b[39;49m\u001b[43mextend\u001b[49m(veggies)\n\u001b[0;32m      3\u001b[0m \u001b[38;5;28mprint\u001b[39m(list4)\n",
      "\u001b[1;31mAttributeError\u001b[0m: 'NoneType' object has no attribute 'extend'"
     ]
    }
   ],
   "source": [
    "veggies=['Carrot', \"beet\",\"cucumber\"]\n",
    "list4= list4.extend(veggies)\n",
    "print(list4)\n",
    "\n",
    "#dont use extend() and assign to list1"
   ]
  },
  {
   "cell_type": "code",
   "execution_count": 49,
   "id": "babfb280",
   "metadata": {},
   "outputs": [
    {
     "ename": "AttributeError",
     "evalue": "'NoneType' object has no attribute 'extend'",
     "output_type": "error",
     "traceback": [
      "\u001b[1;31m---------------------------------------------------------------------------\u001b[0m",
      "\u001b[1;31mAttributeError\u001b[0m                            Traceback (most recent call last)",
      "Input \u001b[1;32mIn [49]\u001b[0m, in \u001b[0;36m<cell line: 2>\u001b[1;34m()\u001b[0m\n\u001b[0;32m      1\u001b[0m veggies\u001b[38;5;241m=\u001b[39m[\u001b[38;5;124m'\u001b[39m\u001b[38;5;124mCarrot\u001b[39m\u001b[38;5;124m'\u001b[39m, \u001b[38;5;124m\"\u001b[39m\u001b[38;5;124mbeet\u001b[39m\u001b[38;5;124m\"\u001b[39m,\u001b[38;5;124m\"\u001b[39m\u001b[38;5;124mcucumber\u001b[39m\u001b[38;5;124m\"\u001b[39m]\n\u001b[1;32m----> 2\u001b[0m \u001b[43mlist4\u001b[49m\u001b[38;5;241;43m.\u001b[39;49m\u001b[43mextend\u001b[49m(veggies)\n\u001b[0;32m      3\u001b[0m \u001b[38;5;28mprint\u001b[39m(list4)\n",
      "\u001b[1;31mAttributeError\u001b[0m: 'NoneType' object has no attribute 'extend'"
     ]
    }
   ],
   "source": [
    "veggies=['Carrot', \"beet\",\"cucumber\"]\n",
    "list4.extend(veggies)\n",
    "print(list4)\n",
    "#didnt write list4 here, so getting an error"
   ]
  },
  {
   "cell_type": "code",
   "execution_count": 50,
   "id": "78e9e32d",
   "metadata": {},
   "outputs": [
    {
     "name": "stdout",
     "output_type": "stream",
     "text": [
      "['apple', 'banana', 'cherry', 'mango', 'pineapple', 'papaya']\n"
     ]
    }
   ],
   "source": [
    "thislist = [\"apple\", \"banana\", \"cherry\"]\n",
    "tropical = [\"mango\", \"pineapple\", \"papaya\"]\n",
    "thislist.extend(tropical)\n",
    "print(thislist)"
   ]
  },
  {
   "cell_type": "code",
   "execution_count": 52,
   "id": "af61a46a",
   "metadata": {},
   "outputs": [
    {
     "data": {
      "text/plain": [
       "['apple',\n",
       " 'banana',\n",
       " 'cherry',\n",
       " 'orange',\n",
       " 'kiwi',\n",
       " 'melon',\n",
       " 'mango',\n",
       " 'Carrot',\n",
       " 'beet',\n",
       " 'cucumber']"
      ]
     },
     "execution_count": 52,
     "metadata": {},
     "output_type": "execute_result"
    }
   ],
   "source": [
    "list4= ['apple', 'banana', 'cherry', 'orange', 'kiwi', 'melon', 'mango']\n",
    "veggies=['Carrot', \"beet\",\"cucumber\"]\n",
    "\n",
    "list4.extend(veggies)\n",
    "list4"
   ]
  },
  {
   "cell_type": "code",
   "execution_count": 3,
   "id": "4ebb1b7e",
   "metadata": {},
   "outputs": [
    {
     "data": {
      "text/plain": [
       "['apple', 'banana', 'cherry', 'Kiwi', 'Orange']"
      ]
     },
     "execution_count": 3,
     "metadata": {},
     "output_type": "execute_result"
    }
   ],
   "source": [
    "#  Adding any iterables to list: iterbales are list, set, tuples, dictionary\n",
    "# adding set to list using extend. and elements from set are added into list with no chnage in type of list\n",
    "\n",
    "list5=[\"apple\", \"banana\", \"cherry\"]\n",
    "set1= (\"Kiwi\",\"Orange\")\n",
    "\n",
    "list5.extend(set1)\n",
    "list5"
   ]
  },
  {
   "cell_type": "code",
   "execution_count": 4,
   "id": "f5142a26",
   "metadata": {},
   "outputs": [
    {
     "data": {
      "text/plain": [
       "list"
      ]
     },
     "execution_count": 4,
     "metadata": {},
     "output_type": "execute_result"
    }
   ],
   "source": [
    "type(list5)"
   ]
  },
  {
   "cell_type": "code",
   "execution_count": 5,
   "id": "35deefad",
   "metadata": {},
   "outputs": [
    {
     "data": {
      "text/plain": [
       "['apple', 'banana', 'cherry', 'Kiwi', 'Orange']"
      ]
     },
     "execution_count": 5,
     "metadata": {},
     "output_type": "execute_result"
    }
   ],
   "source": [
    "list6=[\"apple\", \"banana\", \"cherry\"]\n",
    "set2= {\"Kiwi\",\"Orange\"}\n",
    "list6.extend(set2)\n",
    "list6"
   ]
  },
  {
   "cell_type": "code",
   "execution_count": 6,
   "id": "cb183159",
   "metadata": {},
   "outputs": [
    {
     "data": {
      "text/plain": [
       "['apple', 'banana', 'cherry', 1, 2]"
      ]
     },
     "execution_count": 6,
     "metadata": {},
     "output_type": "execute_result"
    }
   ],
   "source": [
    "list7=[\"apple\", \"banana\", \"cherry\"]\n",
    "dict2= {1: \"Kiwi\",2:\"Orange\"}\n",
    "list7.extend(dict2)\n",
    "list7"
   ]
  },
  {
   "cell_type": "code",
   "execution_count": 7,
   "id": "bc9b849e",
   "metadata": {},
   "outputs": [
    {
     "data": {
      "text/plain": [
       "{'Age': [10, 20, 30, 40, 50, 60]}"
      ]
     },
     "execution_count": 7,
     "metadata": {},
     "output_type": "execute_result"
    }
   ],
   "source": [
    "# adding list to dictionary\n",
    "\n",
    "dict2= {\"Age\": [10,20,30,40]}\n",
    "dict2[\"Age\"].extend([50,60])\n",
    "\n",
    "dict2"
   ]
  },
  {
   "cell_type": "markdown",
   "id": "68909ba4",
   "metadata": {},
   "source": [
    "###  Remove items from list\n"
   ]
  },
  {
   "cell_type": "markdown",
   "id": "ff6b7d24",
   "metadata": {},
   "source": [
    "#### 4 ways\n",
    "\n",
    "1. remove(\"item\"): item from the list will be removed \n",
    "2. pop(index): indexed item will be deleted.\n",
    "3. del: del is the keyword. ex: del list[index]: indexed item will be deleted. Entire list will be non existent\n",
    "4. clear(): everything will be cleared frm the list, but list will be intact "
   ]
  },
  {
   "cell_type": "code",
   "execution_count": 8,
   "id": "3a53c961",
   "metadata": {},
   "outputs": [
    {
     "data": {
      "text/plain": [
       "['apple', 'cherry', 'orange', 'kiwi', 'melon', 'mango', 'Grapes']"
      ]
     },
     "execution_count": 8,
     "metadata": {},
     "output_type": "execute_result"
    }
   ],
   "source": [
    "list8= ['apple', 'banana', 'cherry', 'orange', 'kiwi', 'melon', 'mango', 'Grapes']\n",
    "list8.remove('banana')\n",
    "list8"
   ]
  },
  {
   "cell_type": "code",
   "execution_count": 9,
   "id": "5217be37",
   "metadata": {},
   "outputs": [
    {
     "ename": "ValueError",
     "evalue": "list.remove(x): x not in list",
     "output_type": "error",
     "traceback": [
      "\u001b[1;31m---------------------------------------------------------------------------\u001b[0m",
      "\u001b[1;31mValueError\u001b[0m                                Traceback (most recent call last)",
      "Input \u001b[1;32mIn [9]\u001b[0m, in \u001b[0;36m<cell line: 1>\u001b[1;34m()\u001b[0m\n\u001b[1;32m----> 1\u001b[0m \u001b[43mlist8\u001b[49m\u001b[38;5;241;43m.\u001b[39;49m\u001b[43mremove\u001b[49m\u001b[43m(\u001b[49m\u001b[38;5;124;43m'\u001b[39;49m\u001b[38;5;124;43mcarrot\u001b[39;49m\u001b[38;5;124;43m'\u001b[39;49m\u001b[43m)\u001b[49m\n",
      "\u001b[1;31mValueError\u001b[0m: list.remove(x): x not in list"
     ]
    }
   ],
   "source": [
    "list8.remove('carrot')\n",
    "\n",
    "#trying to remove the item which is not in the list"
   ]
  },
  {
   "cell_type": "code",
   "execution_count": 10,
   "id": "4383b942",
   "metadata": {},
   "outputs": [
    {
     "ename": "ValueError",
     "evalue": "list.remove(x): x not in list",
     "output_type": "error",
     "traceback": [
      "\u001b[1;31m---------------------------------------------------------------------------\u001b[0m",
      "\u001b[1;31mValueError\u001b[0m                                Traceback (most recent call last)",
      "Input \u001b[1;32mIn [10]\u001b[0m, in \u001b[0;36m<cell line: 1>\u001b[1;34m()\u001b[0m\n\u001b[1;32m----> 1\u001b[0m \u001b[43mlist8\u001b[49m\u001b[38;5;241;43m.\u001b[39;49m\u001b[43mremove\u001b[49m\u001b[43m(\u001b[49m\u001b[38;5;124;43m'\u001b[39;49m\u001b[38;5;124;43mbanana\u001b[39;49m\u001b[38;5;124;43m'\u001b[39;49m\u001b[43m)\u001b[49m\n",
      "\u001b[1;31mValueError\u001b[0m: list.remove(x): x not in list"
     ]
    }
   ],
   "source": [
    "list8.remove('banana')\n",
    "#it is already removed, cant be removed twice. "
   ]
  },
  {
   "cell_type": "code",
   "execution_count": 11,
   "id": "d206af59",
   "metadata": {},
   "outputs": [],
   "source": [
    "list9= ['apple', 'banana', 'cherry', 'banana','orange', 'kiwi', 'melon', 'mango', 'Grapes']\n",
    "#there are 2 occurances of banana.both occurances will be deleted."
   ]
  },
  {
   "cell_type": "code",
   "execution_count": 13,
   "id": "39791666",
   "metadata": {},
   "outputs": [
    {
     "data": {
      "text/plain": [
       "['apple', 'cherry', 'orange', 'kiwi', 'melon', 'mango', 'Grapes']"
      ]
     },
     "execution_count": 13,
     "metadata": {},
     "output_type": "execute_result"
    }
   ],
   "source": [
    "list9.remove('banana')\n",
    "list9"
   ]
  },
  {
   "cell_type": "code",
   "execution_count": 15,
   "id": "4079b3a0",
   "metadata": {},
   "outputs": [
    {
     "data": {
      "text/plain": [
       "'Grapes'"
      ]
     },
     "execution_count": 15,
     "metadata": {},
     "output_type": "execute_result"
    }
   ],
   "source": [
    "list10= ['apple', 'banana', 'cherry', 'orange', 'kiwi', 'melon', 'mango', 'Grapes']\n",
    "list10.pop()\n",
    "# if no index is mentioned, it wil pop last item frm the list"
   ]
  },
  {
   "cell_type": "code",
   "execution_count": 16,
   "id": "b7be1cc3",
   "metadata": {},
   "outputs": [
    {
     "data": {
      "text/plain": [
       "['apple', 'banana', 'cherry', 'orange', 'kiwi', 'melon', 'mango']"
      ]
     },
     "execution_count": 16,
     "metadata": {},
     "output_type": "execute_result"
    }
   ],
   "source": [
    "list10"
   ]
  },
  {
   "cell_type": "code",
   "execution_count": 17,
   "id": "a75bb041",
   "metadata": {},
   "outputs": [
    {
     "data": {
      "text/plain": [
       "'cherry'"
      ]
     },
     "execution_count": 17,
     "metadata": {},
     "output_type": "execute_result"
    }
   ],
   "source": [
    "list10.pop(2)"
   ]
  },
  {
   "cell_type": "code",
   "execution_count": 18,
   "id": "c31689c4",
   "metadata": {},
   "outputs": [
    {
     "data": {
      "text/plain": [
       "['apple', 'banana', 'orange', 'kiwi', 'melon', 'mango']"
      ]
     },
     "execution_count": 18,
     "metadata": {},
     "output_type": "execute_result"
    }
   ],
   "source": [
    "list10"
   ]
  },
  {
   "cell_type": "code",
   "execution_count": 20,
   "id": "2f43b28c",
   "metadata": {},
   "outputs": [
    {
     "data": {
      "text/plain": [
       "['banana', 'cherry', 'orange', 'kiwi', 'melon', 'mango', 'Grapes']"
      ]
     },
     "execution_count": 20,
     "metadata": {},
     "output_type": "execute_result"
    }
   ],
   "source": [
    "# del keyword\n",
    "\n",
    "list11= ['apple', 'banana', 'cherry', 'orange', 'kiwi', 'melon', 'mango', 'Grapes']\n",
    "del list11[0]\n",
    "list11"
   ]
  },
  {
   "cell_type": "code",
   "execution_count": 21,
   "id": "e2b904f8",
   "metadata": {},
   "outputs": [],
   "source": [
    "del list11"
   ]
  },
  {
   "cell_type": "code",
   "execution_count": 23,
   "id": "1014e768",
   "metadata": {},
   "outputs": [
    {
     "ename": "NameError",
     "evalue": "name 'list11' is not defined",
     "output_type": "error",
     "traceback": [
      "\u001b[1;31m---------------------------------------------------------------------------\u001b[0m",
      "\u001b[1;31mNameError\u001b[0m                                 Traceback (most recent call last)",
      "Input \u001b[1;32mIn [23]\u001b[0m, in \u001b[0;36m<cell line: 1>\u001b[1;34m()\u001b[0m\n\u001b[1;32m----> 1\u001b[0m \u001b[38;5;28mprint\u001b[39m(\u001b[43mlist11\u001b[49m)\n",
      "\u001b[1;31mNameError\u001b[0m: name 'list11' is not defined"
     ]
    }
   ],
   "source": [
    "print(list11)"
   ]
  },
  {
   "cell_type": "code",
   "execution_count": 25,
   "id": "bf3f694e",
   "metadata": {},
   "outputs": [
    {
     "ename": "TypeError",
     "evalue": "list.clear() takes no arguments (1 given)",
     "output_type": "error",
     "traceback": [
      "\u001b[1;31m---------------------------------------------------------------------------\u001b[0m",
      "\u001b[1;31mTypeError\u001b[0m                                 Traceback (most recent call last)",
      "Input \u001b[1;32mIn [25]\u001b[0m, in \u001b[0;36m<cell line: 4>\u001b[1;34m()\u001b[0m\n\u001b[0;32m      1\u001b[0m \u001b[38;5;66;03m# clear() method\u001b[39;00m\n\u001b[0;32m      3\u001b[0m list12\u001b[38;5;241m=\u001b[39m [\u001b[38;5;124m'\u001b[39m\u001b[38;5;124mapple\u001b[39m\u001b[38;5;124m'\u001b[39m, \u001b[38;5;124m'\u001b[39m\u001b[38;5;124mbanana\u001b[39m\u001b[38;5;124m'\u001b[39m, \u001b[38;5;124m'\u001b[39m\u001b[38;5;124mcherry\u001b[39m\u001b[38;5;124m'\u001b[39m, \u001b[38;5;124m'\u001b[39m\u001b[38;5;124morange\u001b[39m\u001b[38;5;124m'\u001b[39m, \u001b[38;5;124m'\u001b[39m\u001b[38;5;124mkiwi\u001b[39m\u001b[38;5;124m'\u001b[39m, \u001b[38;5;124m'\u001b[39m\u001b[38;5;124mmelon\u001b[39m\u001b[38;5;124m'\u001b[39m, \u001b[38;5;124m'\u001b[39m\u001b[38;5;124mmango\u001b[39m\u001b[38;5;124m'\u001b[39m, \u001b[38;5;124m'\u001b[39m\u001b[38;5;124mGrapes\u001b[39m\u001b[38;5;124m'\u001b[39m]\n\u001b[1;32m----> 4\u001b[0m \u001b[43mlist12\u001b[49m\u001b[38;5;241;43m.\u001b[39;49m\u001b[43mclear\u001b[49m\u001b[43m(\u001b[49m\u001b[38;5;241;43m0\u001b[39;49m\u001b[43m)\u001b[49m\n\u001b[0;32m      5\u001b[0m list12\n",
      "\u001b[1;31mTypeError\u001b[0m: list.clear() takes no arguments (1 given)"
     ]
    }
   ],
   "source": [
    "# clear() method: this is used to clear entire items in the list. indexing doesnt work \n",
    "\n",
    "list12= ['apple', 'banana', 'cherry', 'orange', 'kiwi', 'melon', 'mango', 'Grapes']\n",
    "list12.clear(0)\n",
    "list12"
   ]
  },
  {
   "cell_type": "code",
   "execution_count": 27,
   "id": "0c5d4df0",
   "metadata": {},
   "outputs": [
    {
     "data": {
      "text/plain": [
       "[]"
      ]
     },
     "execution_count": 27,
     "metadata": {},
     "output_type": "execute_result"
    }
   ],
   "source": [
    "#list exists, return empty list\n",
    "list12.clear()\n",
    "list12\n"
   ]
  },
  {
   "cell_type": "markdown",
   "id": "6a3353ee",
   "metadata": {},
   "source": [
    "### Loop list: how to loop a list\n",
    "1. for loop\n",
    "2. range()\n",
    "3. while loop()\n",
    "4. list comprehension"
   ]
  },
  {
   "cell_type": "code",
   "execution_count": 28,
   "id": "b6041814",
   "metadata": {},
   "outputs": [
    {
     "name": "stdout",
     "output_type": "stream",
     "text": [
      "apple\n",
      "banana\n",
      "cherry\n",
      "orange\n",
      "kiwi\n",
      "melon\n",
      "mango\n",
      "Grapes\n"
     ]
    }
   ],
   "source": [
    "#1. for loop \n",
    "\n",
    "list13= ['apple', 'banana', 'cherry', 'orange', 'kiwi', 'melon', 'mango', 'Grapes']\n",
    "for i in list13:\n",
    "    print(i)"
   ]
  },
  {
   "cell_type": "code",
   "execution_count": 31,
   "id": "faca059c",
   "metadata": {},
   "outputs": [
    {
     "name": "stdout",
     "output_type": "stream",
     "text": [
      "apple\n",
      "banana\n",
      "cherry\n",
      "orange\n",
      "kiwi\n",
      "melon\n",
      "mango\n",
      "Grapes\n"
     ]
    }
   ],
   "source": [
    "# while loop\n",
    "i= 0\n",
    "n= len(list13)\n",
    "\n",
    "while(i< n):\n",
    "    print(list13[i])\n",
    "    i += 1"
   ]
  },
  {
   "cell_type": "code",
   "execution_count": 33,
   "id": "32e0ee78",
   "metadata": {},
   "outputs": [
    {
     "name": "stdout",
     "output_type": "stream",
     "text": [
      "apple\n",
      "banana\n",
      "cherry\n",
      "orange\n",
      "kiwi\n",
      "melon\n",
      "mango\n",
      "Grapes\n"
     ]
    }
   ],
   "source": [
    "# Range\n",
    "n= len(list13)\n",
    "\n",
    "for i in range(n):\n",
    "    print(list13[i])"
   ]
  },
  {
   "cell_type": "code",
   "execution_count": 34,
   "id": "9a11bd13",
   "metadata": {},
   "outputs": [
    {
     "name": "stdout",
     "output_type": "stream",
     "text": [
      "apple\n",
      "banana\n",
      "cherry\n",
      "orange\n",
      "kiwi\n",
      "melon\n",
      "mango\n",
      "Grapes\n"
     ]
    },
    {
     "data": {
      "text/plain": [
       "[None, None, None, None, None, None, None, None]"
      ]
     },
     "execution_count": 34,
     "metadata": {},
     "output_type": "execute_result"
    }
   ],
   "source": [
    "# List comprehension\n",
    "\n",
    "[print(x) for x in list13]"
   ]
  },
  {
   "cell_type": "markdown",
   "id": "72a79220",
   "metadata": {},
   "source": [
    "### List comprehension:\n",
    "\n",
    "#### Syntax:\n",
    "- newlist = [expression for item in iterable if condition == True]\n",
    "\n",
    "\n",
    "- used to creare a new list based on the value of existing list\n",
    "- ex: in list 1, if there is character 'a' in item apend that into new list"
   ]
  },
  {
   "cell_type": "code",
   "execution_count": 36,
   "id": "23b6b772",
   "metadata": {},
   "outputs": [
    {
     "name": "stdout",
     "output_type": "stream",
     "text": [
      "['apple', 'banana', 'orange', 'mango', 'Grapes']\n"
     ]
    }
   ],
   "source": [
    "list14= ['apple', 'banana', 'cherry', 'orange', 'kiwi', 'melon', 'mango', 'Grapes']\n",
    "\n",
    "new_list = []\n",
    "\n",
    "for i in list14:\n",
    "    if \"a\" in i:\n",
    "        new_list.append(i)\n",
    "        \n",
    "print(new_list)\n"
   ]
  },
  {
   "cell_type": "code",
   "execution_count": 40,
   "id": "36f073b4",
   "metadata": {},
   "outputs": [
    {
     "name": "stdout",
     "output_type": "stream",
     "text": [
      "['apple', 'banana', 'mango']\n"
     ]
    }
   ],
   "source": [
    "fruits = [\"apple\", \"banana\", \"cherry\", \"kiwi\", \"mango\"]\n",
    "\n",
    "newlist = [x for x in fruits if \"a\" in x]\n",
    "\n",
    "print(newlist)"
   ]
  },
  {
   "cell_type": "code",
   "execution_count": null,
   "id": "77d74164",
   "metadata": {},
   "outputs": [],
   "source": []
  },
  {
   "cell_type": "code",
   "execution_count": null,
   "id": "6c329270",
   "metadata": {},
   "outputs": [],
   "source": []
  },
  {
   "cell_type": "code",
   "execution_count": null,
   "id": "37cce2c2",
   "metadata": {},
   "outputs": [],
   "source": []
  },
  {
   "cell_type": "code",
   "execution_count": null,
   "id": "e523ded7",
   "metadata": {},
   "outputs": [],
   "source": []
  },
  {
   "cell_type": "code",
   "execution_count": null,
   "id": "3a85da1c",
   "metadata": {},
   "outputs": [],
   "source": []
  },
  {
   "cell_type": "markdown",
   "id": "b813ba0a",
   "metadata": {},
   "source": [
    "### List sorting:\n",
    "\n",
    "1. Alphabetically or numerically Ascending: sort() \n",
    "2. Descending: sort(reverse= True)\n",
    "3. reverse() method\n",
    "4. Customized\n"
   ]
  },
  {
   "cell_type": "code",
   "execution_count": 45,
   "id": "9e581c8b",
   "metadata": {},
   "outputs": [
    {
     "data": {
      "text/plain": [
       "['apple', 'banana', 'cherry', 'grapes', 'kiwi', 'mango', 'melon', 'orange']"
      ]
     },
     "execution_count": 45,
     "metadata": {},
     "output_type": "execute_result"
    }
   ],
   "source": [
    "# ascending and descending\n",
    "\n",
    "list15= ['apple', 'banana', 'cherry', 'orange', 'kiwi', 'melon', 'mango', 'grapes']\n",
    "list15.sort()\n",
    "list15"
   ]
  },
  {
   "cell_type": "code",
   "execution_count": 46,
   "id": "bef45f0c",
   "metadata": {},
   "outputs": [
    {
     "data": {
      "text/plain": [
       "['orange', 'melon', 'mango', 'kiwi', 'grapes', 'cherry', 'banana', 'apple']"
      ]
     },
     "execution_count": 46,
     "metadata": {},
     "output_type": "execute_result"
    }
   ],
   "source": [
    "#descending\n",
    "list15.sort(reverse= True)\n",
    "list15"
   ]
  },
  {
   "cell_type": "code",
   "execution_count": 47,
   "id": "bab4caaa",
   "metadata": {},
   "outputs": [
    {
     "data": {
      "text/plain": [
       "['Grapes', 'Orange', 'apple', 'banana', 'cherry', 'kiwi', 'mango', 'melon']"
      ]
     },
     "execution_count": 47,
     "metadata": {},
     "output_type": "execute_result"
    }
   ],
   "source": [
    "# sort() is case sensitive. capital ones will be sorted as first\n",
    "\n",
    "list16= ['apple', 'banana', 'cherry', 'Orange', 'kiwi', 'melon', 'mango', 'Grapes']\n",
    "list16.sort()\n",
    "list16"
   ]
  },
  {
   "cell_type": "code",
   "execution_count": 51,
   "id": "810d9e43",
   "metadata": {},
   "outputs": [
    {
     "data": {
      "text/plain": [
       "['apple', 'banana', 'cherry', 'Grapes', 'kiwi', 'mango', 'melon', 'Orange']"
      ]
     },
     "execution_count": 51,
     "metadata": {},
     "output_type": "execute_result"
    }
   ],
   "source": [
    "#  to make it case insenstive, pass argument: key= str.lower. \n",
    "# key is the keyword within the sort() where the operation takes place. ex: here strings are converted into lower \n",
    "#and then sorting is performed\n",
    "\n",
    "\n",
    "list16.sort(key= str.lower)\n",
    "list16"
   ]
  },
  {
   "cell_type": "code",
   "execution_count": 49,
   "id": "ec795631",
   "metadata": {},
   "outputs": [
    {
     "data": {
      "text/plain": [
       "['grapes', 'mango', 'melon', 'kiwi', 'orange', 'cherry', 'banana', 'apple']"
      ]
     },
     "execution_count": 49,
     "metadata": {},
     "output_type": "execute_result"
    }
   ],
   "source": [
    "list17= ['apple', 'banana', 'cherry', 'orange', 'kiwi', 'melon', 'mango', 'grapes']\n",
    "list17.reverse()\n",
    "list17"
   ]
  },
  {
   "cell_type": "code",
   "execution_count": 52,
   "id": "260ff4f8",
   "metadata": {},
   "outputs": [
    {
     "data": {
      "text/plain": [
       "[50, 39, 11, 90, 100]"
      ]
     },
     "execution_count": 52,
     "metadata": {},
     "output_type": "execute_result"
    }
   ],
   "source": [
    "#customized: sort based on how close numner i to 50\n",
    "\n",
    "def myfunc(n):\n",
    "    return abs(n- 50) \n",
    "\n",
    "# this function will subtract all the numbers in list18 and return absolute value, negatives are not considered\n",
    "    \n",
    "\n",
    "list18= [100,50,39,11,90]\n",
    "list18.sort(key= myfunc)\n",
    "list18\n",
    "\n",
    "# "
   ]
  },
  {
   "cell_type": "code",
   "execution_count": 53,
   "id": "8e1e69e7",
   "metadata": {},
   "outputs": [
    {
     "name": "stdout",
     "output_type": "stream",
     "text": [
      "[50, 65, 23, 82, 100]\n"
     ]
    }
   ],
   "source": [
    "def myfunc(n):\n",
    "  return abs(n - 50)\n",
    "\n",
    "thislist = [100, 50, 65, 82, 23]\n",
    "thislist.sort(key = myfunc)\n",
    "print(thislist)"
   ]
  },
  {
   "cell_type": "markdown",
   "id": "9434f9e2",
   "metadata": {},
   "source": [
    "### copy list\n",
    "- using copy()\n",
    "- assigning to new list\n",
    "- using list()\n",
    "- slicing with index"
   ]
  },
  {
   "cell_type": "code",
   "execution_count": 54,
   "id": "4ea0c203",
   "metadata": {},
   "outputs": [
    {
     "data": {
      "text/plain": [
       "['apple', 'banana', 'cherry', 'orange', 'kiwi', 'melon', 'mango', 'grapes']"
      ]
     },
     "execution_count": 54,
     "metadata": {},
     "output_type": "execute_result"
    }
   ],
   "source": [
    "# using copy \n",
    "\n",
    "list19= ['apple', 'banana', 'cherry', 'orange', 'kiwi', 'melon', 'mango', 'grapes']\n",
    "\n",
    "copy_list19= list19.copy()\n",
    "copy_list19"
   ]
  },
  {
   "cell_type": "code",
   "execution_count": 56,
   "id": "e20866bb",
   "metadata": {},
   "outputs": [
    {
     "data": {
      "text/plain": [
       "['apple', 'banana', 'cherry', 'orange', 'kiwi', 'melon', 'mango', 'grapes']"
      ]
     },
     "execution_count": 56,
     "metadata": {},
     "output_type": "execute_result"
    }
   ],
   "source": [
    "copy_list20= list19\n",
    "copy_list20"
   ]
  },
  {
   "cell_type": "code",
   "execution_count": 57,
   "id": "f7ae8668",
   "metadata": {},
   "outputs": [
    {
     "data": {
      "text/plain": [
       "['apple', 'banana', 'cherry', 'orange', 'kiwi', 'melon', 'mango', 'grapes']"
      ]
     },
     "execution_count": 57,
     "metadata": {},
     "output_type": "execute_result"
    }
   ],
   "source": [
    "copy_list21= list(list19)\n",
    "copy_list21"
   ]
  },
  {
   "cell_type": "code",
   "execution_count": 58,
   "id": "f2e52fd7",
   "metadata": {},
   "outputs": [
    {
     "data": {
      "text/plain": [
       "['apple', 'banana', 'cherry', 'orange', 'kiwi', 'melon', 'mango', 'grapes']"
      ]
     },
     "execution_count": 58,
     "metadata": {},
     "output_type": "execute_result"
    }
   ],
   "source": [
    "copy_list22= list19[:]\n",
    "copy_list22"
   ]
  },
  {
   "cell_type": "markdown",
   "id": "531b2971",
   "metadata": {},
   "source": [
    "### joining list\n",
    "\n",
    "1. using + operand\n",
    "2. using extend()\n",
    "3. using append() "
   ]
  },
  {
   "cell_type": "code",
   "execution_count": 59,
   "id": "c7d27f58",
   "metadata": {},
   "outputs": [
    {
     "data": {
      "text/plain": [
       "['a', 'b', 'c', 1, 2, 3]"
      ]
     },
     "execution_count": 59,
     "metadata": {},
     "output_type": "execute_result"
    }
   ],
   "source": [
    "# using + \n",
    "\n",
    "list1 = [\"a\", \"b\", \"c\"]\n",
    "list2 = [1, 2, 3]\n",
    "\n",
    "list3= list1 + list2\n",
    "\n",
    "list3"
   ]
  },
  {
   "cell_type": "code",
   "execution_count": 63,
   "id": "0ea8e4e7",
   "metadata": {},
   "outputs": [
    {
     "name": "stdout",
     "output_type": "stream",
     "text": [
      "['a', 'b', 'c', 1, 2, 3]\n"
     ]
    }
   ],
   "source": [
    "#using extend\n",
    "list1 = [\"a\", \"b\", \"c\"]\n",
    "list2 = [1, 2, 3]\n",
    "list1.extend(list2)\n",
    "print(list1)\n",
    "\n",
    "\n",
    "#here I cant use: list3= list1.extend(list2)"
   ]
  },
  {
   "cell_type": "code",
   "execution_count": 65,
   "id": "9db4ee1e",
   "metadata": {},
   "outputs": [],
   "source": [
    "# using append()\n",
    "\n",
    "# I cant use append() and pass whole list. Instead\n",
    "\n",
    "list3= list1.append(list2)\n",
    "list3"
   ]
  },
  {
   "cell_type": "code",
   "execution_count": 68,
   "id": "7692287f",
   "metadata": {},
   "outputs": [
    {
     "name": "stdout",
     "output_type": "stream",
     "text": [
      "['a', 'b', 'c', 1, 2, 3]\n"
     ]
    }
   ],
   "source": [
    "# I need to use for() to append\n",
    "\n",
    "list1 = [\"a\", \"b\" , \"c\"]\n",
    "list2 = [1, 2, 3]\n",
    "\n",
    "\n",
    "for i in list2:\n",
    "    list1.append(i)\n",
    "    \n",
    "print(list1)\n"
   ]
  },
  {
   "cell_type": "code",
   "execution_count": null,
   "id": "0a549cba",
   "metadata": {},
   "outputs": [],
   "source": []
  }
 ],
 "metadata": {
  "kernelspec": {
   "display_name": "Python 3 (ipykernel)",
   "language": "python",
   "name": "python3"
  },
  "language_info": {
   "codemirror_mode": {
    "name": "ipython",
    "version": 3
   },
   "file_extension": ".py",
   "mimetype": "text/x-python",
   "name": "python",
   "nbconvert_exporter": "python",
   "pygments_lexer": "ipython3",
   "version": "3.9.12"
  }
 },
 "nbformat": 4,
 "nbformat_minor": 5
}
