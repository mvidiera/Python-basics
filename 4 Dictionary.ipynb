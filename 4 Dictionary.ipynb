{
 "cells": [
  {
   "cell_type": "markdown",
   "id": "8c66bd3d",
   "metadata": {},
   "source": [
    "## Dictionary\n",
    "\n",
    "- data type used to store key: value pairs with any data types.\n",
    "- Dictionary is ordered, changeable and do not allow duplicates.\n",
    "- no index\n",
    "- Once the dictionary is created, we can change: add or remove items.\n",
    "- Duplicate keys are not allowed."
   ]
  },
  {
   "cell_type": "code",
   "execution_count": 2,
   "id": "26acbd90",
   "metadata": {},
   "outputs": [
    {
     "data": {
      "text/plain": [
       "{'brand': 'Ford', 'model': 'Mustang', 'year': 2020}"
      ]
     },
     "execution_count": 2,
     "metadata": {},
     "output_type": "execute_result"
    }
   ],
   "source": [
    "dict1= {\n",
    "  \"brand\": \"Ford\",\n",
    "  \"model\": \"Mustang\",\n",
    "  \"year\": 1964,\n",
    "  \"year\": 2020  \n",
    "}\n",
    "\n",
    "dict1"
   ]
  },
  {
   "cell_type": "code",
   "execution_count": 3,
   "id": "fe24834e",
   "metadata": {},
   "outputs": [
    {
     "data": {
      "text/plain": [
       "dict"
      ]
     },
     "execution_count": 3,
     "metadata": {},
     "output_type": "execute_result"
    }
   ],
   "source": [
    "type(dict1)"
   ]
  },
  {
   "cell_type": "code",
   "execution_count": 4,
   "id": "9f7f52ef",
   "metadata": {},
   "outputs": [
    {
     "data": {
      "text/plain": [
       "3"
      ]
     },
     "execution_count": 4,
     "metadata": {},
     "output_type": "execute_result"
    }
   ],
   "source": [
    "len(dict1)"
   ]
  },
  {
   "cell_type": "code",
   "execution_count": 7,
   "id": "046618e2",
   "metadata": {},
   "outputs": [
    {
     "data": {
      "text/plain": [
       "{'name': 'Melissa', 'lname': 'Vidiera', 'country': 'India'}"
      ]
     },
     "execution_count": 7,
     "metadata": {},
     "output_type": "execute_result"
    }
   ],
   "source": [
    "# dictionary constuctor: use dict() keyword\n",
    "# difference is that key= value, instead of :\n",
    "# key is not enclosed in quotes.\n",
    "\n",
    "dict_const= dict( name = \"Melissa\", lname = \"Vidiera\", country= \"India\")\n",
    "dict_const"
   ]
  },
  {
   "cell_type": "markdown",
   "id": "2150b874",
   "metadata": {},
   "source": [
    "###  Accessing items in dictionary\n",
    "1. get(key) : pass key inside get() and it returns key value pair\n",
    "2. keys():returns the list of keys in that dict\n",
    "3. values(): returns the list of values in that dict. \n",
    "4. items(): \n",
    "5. to check if key is present: use -> if \"key_name\" in \"dictionary_name\""
   ]
  },
  {
   "cell_type": "code",
   "execution_count": 8,
   "id": "efde58f6",
   "metadata": {},
   "outputs": [
    {
     "data": {
      "text/plain": [
       "'Mustang'"
      ]
     },
     "execution_count": 8,
     "metadata": {},
     "output_type": "execute_result"
    }
   ],
   "source": [
    "# 1. get(key)\n",
    "\n",
    "dict1.get(\"model\")"
   ]
  },
  {
   "cell_type": "code",
   "execution_count": 9,
   "id": "cf2bf95b",
   "metadata": {},
   "outputs": [
    {
     "data": {
      "text/plain": [
       "dict_keys(['brand', 'model', 'year'])"
      ]
     },
     "execution_count": 9,
     "metadata": {},
     "output_type": "execute_result"
    }
   ],
   "source": [
    "# 2. dict.keys()\n",
    "\n",
    "dict1.keys()"
   ]
  },
  {
   "cell_type": "code",
   "execution_count": 10,
   "id": "c8b77277",
   "metadata": {},
   "outputs": [
    {
     "data": {
      "text/plain": [
       "dict_values(['Ford', 'Mustang', 2020])"
      ]
     },
     "execution_count": 10,
     "metadata": {},
     "output_type": "execute_result"
    }
   ],
   "source": [
    "# 3. dict.values()\n",
    "\n",
    "dict1.values()"
   ]
  },
  {
   "cell_type": "code",
   "execution_count": 11,
   "id": "5b8e58c6",
   "metadata": {},
   "outputs": [
    {
     "data": {
      "text/plain": [
       "dict_items([('brand', 'Ford'), ('model', 'Mustang'), ('year', 2020)])"
      ]
     },
     "execution_count": 11,
     "metadata": {},
     "output_type": "execute_result"
    }
   ],
   "source": [
    "#4. items()\n",
    "\n",
    "dict1.items()"
   ]
  },
  {
   "cell_type": "code",
   "execution_count": 12,
   "id": "3ee27f70",
   "metadata": {},
   "outputs": [
    {
     "name": "stdout",
     "output_type": "stream",
     "text": [
      "year key exists in this dictionary\n"
     ]
    }
   ],
   "source": [
    "# to check if key exists\n",
    "\n",
    "if \"year\" in dict1: \n",
    "    print(\"year key exists in this dictionary\")"
   ]
  },
  {
   "cell_type": "markdown",
   "id": "05e1d0e9",
   "metadata": {},
   "source": [
    "### Add items in dictionary"
   ]
  },
  {
   "cell_type": "code",
   "execution_count": 18,
   "id": "fa9cc177",
   "metadata": {},
   "outputs": [
    {
     "name": "stdout",
     "output_type": "stream",
     "text": [
      "This is the dictionary before adding new item:\n",
      " dict_keys(['brand', 'model', 'year']) \n",
      "\n",
      "This is the dictionary after adding new item:\n",
      " dict_keys(['brand', 'model', 'year', 'color'])\n"
     ]
    }
   ],
   "source": [
    "# adding a new key value pair\n",
    "\n",
    "car = {\n",
    "\"brand\": \"Ford\",\n",
    "\"model\": \"Mustang\",\n",
    "\"year\": 1964\n",
    "}\n",
    "\n",
    "x= car.keys()\n",
    "\n",
    "print(\"This is the dictionary before adding new item:\\n\", x, \"\\n\")\n",
    "\n",
    "car[\"color\"]= \"Blue\"\n",
    "\n",
    "print(\"This is the dictionary after adding new item:\\n\", x)"
   ]
  },
  {
   "cell_type": "markdown",
   "id": "600cb174",
   "metadata": {},
   "source": [
    "### Updating values in dict\n",
    "\n",
    "- directly using the key and assigning new value\n",
    "- using update() method"
   ]
  },
  {
   "cell_type": "code",
   "execution_count": 20,
   "id": "78ed4f6b",
   "metadata": {},
   "outputs": [
    {
     "name": "stdout",
     "output_type": "stream",
     "text": [
      "This is the dictionary before updating value:\n",
      " dict_values(['Ford', 'Mustang', 1964]) \n",
      "\n",
      "This is the dictionary after updating value:\n",
      " dict_values(['Ford', 'Mustang', '2024'])\n"
     ]
    }
   ],
   "source": [
    "car = {\n",
    "\"brand\": \"Ford\",\n",
    "\"model\": \"Mustang\",\n",
    "\"year\": 1964\n",
    "}\n",
    "\n",
    "x= car.values()\n",
    "\n",
    "print(\"This is the dictionary before updating value:\\n\", x, \"\\n\")\n",
    "\n",
    "car[\"year\"]= \"2024\"\n",
    "\n",
    "print(\"This is the dictionary after updating value:\\n\", x)"
   ]
  },
  {
   "cell_type": "code",
   "execution_count": 22,
   "id": "176d9a46",
   "metadata": {},
   "outputs": [
    {
     "data": {
      "text/plain": [
       "{'brand': 'tata', 'model': 'punch', 'year': 2024}"
      ]
     },
     "execution_count": 22,
     "metadata": {},
     "output_type": "execute_result"
    }
   ],
   "source": [
    "# Using update()\n",
    "\n",
    "dict1.update({\"brand\": \"tata\", \"model\": \"punch\", \"year\":2024})\n",
    "dict1"
   ]
  },
  {
   "cell_type": "markdown",
   "id": "98a0aed8",
   "metadata": {},
   "source": [
    "### remove items:\n",
    "1. pop(key): pop key: value pair\n",
    "2. popitem(): it removes the last inserted item\n",
    "3. del dict[\"key\"]: deletes the key value pair\n",
    "4. del dict : deletes entire dictionary"
   ]
  },
  {
   "cell_type": "code",
   "execution_count": 23,
   "id": "44aa760e",
   "metadata": {},
   "outputs": [
    {
     "data": {
      "text/plain": [
       "{'brand': 'tata', 'model': 'punch'}"
      ]
     },
     "execution_count": 23,
     "metadata": {},
     "output_type": "execute_result"
    }
   ],
   "source": [
    "# 1. pop()\n",
    "\n",
    "dict1.pop(\"year\")\n",
    "dict1"
   ]
  },
  {
   "cell_type": "code",
   "execution_count": 26,
   "id": "e4c6b764",
   "metadata": {},
   "outputs": [
    {
     "data": {
      "text/plain": [
       "{'brand': 'Ford', 'model': 'Mustang'}"
      ]
     },
     "execution_count": 26,
     "metadata": {},
     "output_type": "execute_result"
    }
   ],
   "source": [
    "# popitem()\n",
    "dict2 = {\n",
    "\"brand\": \"Ford\",\n",
    "\"model\": \"Mustang\",\n",
    "\"year\": 1964\n",
    "}\n",
    "dict2.popitem()\n",
    "dict2"
   ]
  },
  {
   "cell_type": "code",
   "execution_count": 28,
   "id": "3582f3c0",
   "metadata": {},
   "outputs": [
    {
     "data": {
      "text/plain": [
       "{'brand': 'Ford'}"
      ]
     },
     "execution_count": 28,
     "metadata": {},
     "output_type": "execute_result"
    }
   ],
   "source": [
    "#del[key]\n",
    "\n",
    "del dict2[\"model\"]\n",
    "dict2"
   ]
  },
  {
   "cell_type": "code",
   "execution_count": 29,
   "id": "edea220e",
   "metadata": {},
   "outputs": [
    {
     "data": {
      "text/plain": [
       "{}"
      ]
     },
     "execution_count": 29,
     "metadata": {},
     "output_type": "execute_result"
    }
   ],
   "source": [
    "# clear\n",
    "\n",
    "dict1.clear()\n",
    "dict1"
   ]
  },
  {
   "cell_type": "code",
   "execution_count": 30,
   "id": "3520d963",
   "metadata": {},
   "outputs": [],
   "source": [
    "# del dict\n",
    "\n",
    "del dict2\n"
   ]
  },
  {
   "cell_type": "code",
   "execution_count": 31,
   "id": "be3194f6",
   "metadata": {},
   "outputs": [
    {
     "ename": "NameError",
     "evalue": "name 'dict2' is not defined",
     "output_type": "error",
     "traceback": [
      "\u001b[1;31m---------------------------------------------------------------------------\u001b[0m",
      "\u001b[1;31mNameError\u001b[0m                                 Traceback (most recent call last)",
      "Input \u001b[1;32mIn [31]\u001b[0m, in \u001b[0;36m<cell line: 1>\u001b[1;34m()\u001b[0m\n\u001b[1;32m----> 1\u001b[0m \u001b[43mdict2\u001b[49m\n",
      "\u001b[1;31mNameError\u001b[0m: name 'dict2' is not defined"
     ]
    }
   ],
   "source": [
    "dict2"
   ]
  },
  {
   "cell_type": "markdown",
   "id": "ea647575",
   "metadata": {},
   "source": [
    "### Looping dictionary\n"
   ]
  },
  {
   "cell_type": "code",
   "execution_count": 32,
   "id": "7386edfc",
   "metadata": {},
   "outputs": [],
   "source": [
    "dict3 = {\n",
    "\"brand\": \"Ford\",\n",
    "\"model\": \"Mustang\",\n",
    "\"year\": 1964\n",
    "}"
   ]
  },
  {
   "cell_type": "code",
   "execution_count": 34,
   "id": "e0cf74b1",
   "metadata": {},
   "outputs": [
    {
     "name": "stdout",
     "output_type": "stream",
     "text": [
      "brand\n",
      "model\n",
      "year\n"
     ]
    }
   ],
   "source": [
    "# here iterative is key\n",
    "\n",
    "for i in dict3: \n",
    "    print(i)"
   ]
  },
  {
   "cell_type": "code",
   "execution_count": 37,
   "id": "2d3f5e91",
   "metadata": {},
   "outputs": [
    {
     "name": "stdout",
     "output_type": "stream",
     "text": [
      "Ford\n",
      "Mustang\n",
      "1964\n"
     ]
    }
   ],
   "source": [
    "# to get values: use dict[i]\n",
    "\n",
    "for i in dict3:\n",
    "    print(dict3[i])"
   ]
  },
  {
   "cell_type": "code",
   "execution_count": 38,
   "id": "34312f77",
   "metadata": {},
   "outputs": [
    {
     "name": "stdout",
     "output_type": "stream",
     "text": [
      "Ford\n",
      "Mustang\n",
      "1964\n"
     ]
    }
   ],
   "source": [
    "#iterating directly the values\n",
    "\n",
    "for i in dict3.values():\n",
    "    print(i)"
   ]
  },
  {
   "cell_type": "code",
   "execution_count": 39,
   "id": "b5041a5d",
   "metadata": {},
   "outputs": [
    {
     "name": "stdout",
     "output_type": "stream",
     "text": [
      "brand\n",
      "model\n",
      "year\n"
     ]
    }
   ],
   "source": [
    "# iterating directly the keys\n",
    "\n",
    "for i in dict3.keys():\n",
    "    print(i)"
   ]
  },
  {
   "cell_type": "code",
   "execution_count": 41,
   "id": "c9915409",
   "metadata": {},
   "outputs": [
    {
     "name": "stdout",
     "output_type": "stream",
     "text": [
      "('brand', 'Ford')\n",
      "('model', 'Mustang')\n",
      "('year', 1964)\n"
     ]
    }
   ],
   "source": [
    "# iterating using items to get both key and value pairs\n",
    "\n",
    "\n",
    "for i in dict3.items():\n",
    "    print(i)"
   ]
  },
  {
   "cell_type": "markdown",
   "id": "617f3646",
   "metadata": {},
   "source": [
    "### Copy dictionary"
   ]
  },
  {
   "cell_type": "code",
   "execution_count": 44,
   "id": "ec94ab38",
   "metadata": {},
   "outputs": [
    {
     "data": {
      "text/plain": [
       "{'brand': 'Ford', 'model': 'Mustang', 'year': 1964}"
      ]
     },
     "execution_count": 44,
     "metadata": {},
     "output_type": "execute_result"
    }
   ],
   "source": [
    "#using copy()\n",
    "dict3_copy = dict3.copy()\n",
    "dict3\n"
   ]
  },
  {
   "cell_type": "code",
   "execution_count": 45,
   "id": "efd96278",
   "metadata": {},
   "outputs": [
    {
     "data": {
      "text/plain": [
       "{'brand': 'Ford', 'model': 'Mustang', 'year': 1964}"
      ]
     },
     "execution_count": 45,
     "metadata": {},
     "output_type": "execute_result"
    }
   ],
   "source": [
    "# using dict()\n",
    "\n",
    "dict3_copy2 = dict(dict3)\n",
    "dict3_copy2"
   ]
  },
  {
   "cell_type": "markdown",
   "id": "9a136f23",
   "metadata": {},
   "source": [
    "### Nested dictionary"
   ]
  },
  {
   "cell_type": "code",
   "execution_count": 10,
   "id": "a7a686d1",
   "metadata": {},
   "outputs": [],
   "source": [
    "my_family= {\n",
    "    \"member1\": {\n",
    "        \"name\": \"Melissa\",\n",
    "        \"age\": 30\n",
    "    },\n",
    "    \n",
    "    \"member2\": {\n",
    "        \"name\": \"Whisky\",\n",
    "        \"age\": 7\n",
    "    },\n",
    "    \n",
    "    \"member3\": {\n",
    "        \"name\": \"Sourav\",\n",
    "        \"age\": 30\n",
    "    }\n",
    "}"
   ]
  },
  {
   "cell_type": "code",
   "execution_count": 4,
   "id": "db63da9a",
   "metadata": {},
   "outputs": [
    {
     "data": {
      "text/plain": [
       "{'member1': {'name': 'Sour', 'age': 30},\n",
       " 'member2': {'name': 'Whisky', 'age': 7}}"
      ]
     },
     "execution_count": 4,
     "metadata": {},
     "output_type": "execute_result"
    }
   ],
   "source": [
    "my_family"
   ]
  },
  {
   "cell_type": "code",
   "execution_count": 5,
   "id": "05b1c71f",
   "metadata": {},
   "outputs": [],
   "source": [
    "#create three dictionary and add it to one. \n",
    "\n",
    "child1 = {\n",
    "  \"name\" : \"Emil\",\n",
    "  \"year\" : 2004\n",
    "}\n",
    "child2 = {\n",
    "  \"name\" : \"Tobias\",\n",
    "  \"year\" : 2007\n",
    "}\n",
    "child3 = {\n",
    "  \"name\" : \"Linus\",\n",
    "  \"year\" : 2011\n",
    "}"
   ]
  },
  {
   "cell_type": "code",
   "execution_count": 6,
   "id": "6d1b547f",
   "metadata": {},
   "outputs": [],
   "source": [
    "my_family= {\n",
    "    \"child1\": child1,\n",
    "    \"child2\": child1,\n",
    "    \"child3\": child1\n",
    "}"
   ]
  },
  {
   "cell_type": "code",
   "execution_count": 7,
   "id": "1df0598b",
   "metadata": {},
   "outputs": [
    {
     "data": {
      "text/plain": [
       "{'child1': {'name': 'Emil', 'year': 2004},\n",
       " 'child2': {'name': 'Emil', 'year': 2004},\n",
       " 'child3': {'name': 'Emil', 'year': 2004}}"
      ]
     },
     "execution_count": 7,
     "metadata": {},
     "output_type": "execute_result"
    }
   ],
   "source": [
    "my_family"
   ]
  },
  {
   "cell_type": "code",
   "execution_count": 11,
   "id": "4aa00147",
   "metadata": {},
   "outputs": [
    {
     "data": {
      "text/plain": [
       "'Melissa'"
      ]
     },
     "execution_count": 11,
     "metadata": {},
     "output_type": "execute_result"
    }
   ],
   "source": [
    "# accessing items in nested dictionary\n",
    "\n",
    "my_family[\"member1\"][\"name\"]"
   ]
  },
  {
   "cell_type": "code",
   "execution_count": 15,
   "id": "6fdf4631",
   "metadata": {
    "scrolled": true
   },
   "outputs": [
    {
     "name": "stdout",
     "output_type": "stream",
     "text": [
      "member1\n",
      "{'name': 'Melissa', 'age': 30}\n",
      "name: Melissa\n",
      "age: 30\n",
      "member2\n",
      "{'name': 'Whisky', 'age': 7}\n",
      "name: Whisky\n",
      "age: 7\n",
      "member3\n",
      "{'name': 'Sourav', 'age': 30}\n",
      "name: Sourav\n",
      "age: 30\n"
     ]
    }
   ],
   "source": [
    "# looping through nested dict: as there is nested, i iterator takes nested dict name. j takes items from nested dict\n",
    "\n",
    "for i, j in my_family.items():\n",
    "    print(i)\n",
    "    print(j)\n",
    "    \n",
    "    for k in j:#within nested dict item\n",
    "        print(k + \":\", j[k])"
   ]
  },
  {
   "cell_type": "code",
   "execution_count": null,
   "id": "9bc38197",
   "metadata": {},
   "outputs": [],
   "source": [
    "# other dictionary methods\n",
    "fromkeys()\n",
    "setdefault()\n"
   ]
  }
 ],
 "metadata": {
  "kernelspec": {
   "display_name": "Python 3 (ipykernel)",
   "language": "python",
   "name": "python3"
  },
  "language_info": {
   "codemirror_mode": {
    "name": "ipython",
    "version": 3
   },
   "file_extension": ".py",
   "mimetype": "text/x-python",
   "name": "python",
   "nbconvert_exporter": "python",
   "pygments_lexer": "ipython3",
   "version": "3.9.12"
  }
 },
 "nbformat": 4,
 "nbformat_minor": 5
}
