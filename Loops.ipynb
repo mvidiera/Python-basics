{
 "cells": [
  {
   "cell_type": "markdown",
   "id": "62e110e0",
   "metadata": {},
   "source": [
    "### while loop"
   ]
  },
  {
   "cell_type": "code",
   "execution_count": 1,
   "id": "c0aca62d",
   "metadata": {},
   "outputs": [
    {
     "name": "stdout",
     "output_type": "stream",
     "text": [
      "0\n",
      "1\n",
      "2\n",
      "3\n",
      "4\n",
      "5\n"
     ]
    }
   ],
   "source": [
    "i=0\n",
    "while(i<6):\n",
    "    print(i)\n",
    "    i += 1\n",
    "    "
   ]
  },
  {
   "cell_type": "markdown",
   "id": "bf6e8a20",
   "metadata": {},
   "source": [
    "#### break statement"
   ]
  },
  {
   "cell_type": "code",
   "execution_count": 2,
   "id": "913106c3",
   "metadata": {},
   "outputs": [
    {
     "name": "stdout",
     "output_type": "stream",
     "text": [
      "0\n",
      "1\n",
      "2\n",
      "3\n"
     ]
    }
   ],
   "source": [
    "# exit the loop when i is 3\n",
    "\n",
    "i = 0\n",
    "while(i< 6):\n",
    "    print(i)\n",
    "    if i == 3:\n",
    "        break\n",
    "    i += 1"
   ]
  },
  {
   "cell_type": "markdown",
   "id": "c5598115",
   "metadata": {},
   "source": [
    "#### continue statement"
   ]
  },
  {
   "cell_type": "code",
   "execution_count": 8,
   "id": "95f7a7ef",
   "metadata": {},
   "outputs": [
    {
     "name": "stdout",
     "output_type": "stream",
     "text": [
      "1\n",
      "2\n",
      "4\n",
      "5\n",
      "6\n"
     ]
    }
   ],
   "source": [
    "#continue to next iteration if i= 3\n",
    "\n",
    "# when 3 is encountered, that piece of code is not printed and the next number is considered. \n",
    "\n",
    "i = 0\n",
    "\n",
    "while(i<6):\n",
    "    i += 1\n",
    "    \n",
    "    if i == 3:\n",
    "        continue\n",
    "    print(i)\n",
    "    "
   ]
  },
  {
   "cell_type": "code",
   "execution_count": 7,
   "id": "b65e3f79",
   "metadata": {},
   "outputs": [
    {
     "name": "stdout",
     "output_type": "stream",
     "text": [
      "current letter is m\n",
      "current letter is e\n",
      "current letter is l\n",
      "current letter is s\n",
      "current letter is s\n",
      "current letter is a\n",
      "All letters are iterated\n"
     ]
    }
   ],
   "source": [
    "# here if the letter is \"i\" then ignore i and continue the rest\n",
    "\n",
    "for i in \"melissa\":\n",
    "    if i == 'i':\n",
    "        continue\n",
    "    print(\"current letter is\", i)\n",
    "print(\"All letters are iterated\")"
   ]
  },
  {
   "cell_type": "code",
   "execution_count": 9,
   "id": "dd7c91a5",
   "metadata": {},
   "outputs": [
    {
     "name": "stdout",
     "output_type": "stream",
     "text": [
      "current letter is m\n",
      "current letter is e\n",
      "current letter is l\n",
      "All letters are iterated\n"
     ]
    }
   ],
   "source": [
    "# whent the current letter is 'i', then break entire loop\n",
    "for i in \"melissa\":\n",
    "    if i == 'i':\n",
    "        break\n",
    "    print(\"current letter is\", i)\n",
    "print(\"All letters are iterated\")"
   ]
  },
  {
   "cell_type": "code",
   "execution_count": 11,
   "id": "bb80a919",
   "metadata": {},
   "outputs": [
    {
     "name": "stdout",
     "output_type": "stream",
     "text": [
      "0\n",
      "1\n",
      "2\n",
      "3\n",
      "4\n",
      "5\n",
      " i is no longer less than 6\n"
     ]
    }
   ],
   "source": [
    "# while and else: else condition will not be inside the while loop. \n",
    "\n",
    "# using else inside while, doesnt need if condition. \n",
    "\n",
    "\n",
    "\n",
    "\n",
    "i = 0\n",
    "\n",
    "while(i<6):\n",
    "    print(i)\n",
    "    i += 1\n",
    "    \n",
    "else:\n",
    "    print(\" i is no longer less than 6\")"
   ]
  },
  {
   "cell_type": "markdown",
   "id": "924b2aed",
   "metadata": {},
   "source": [
    "### for loop"
   ]
  },
  {
   "cell_type": "code",
   "execution_count": 12,
   "id": "abf25c43",
   "metadata": {},
   "outputs": [
    {
     "name": "stdout",
     "output_type": "stream",
     "text": [
      "apple\n",
      "banana\n",
      "cherry\n"
     ]
    }
   ],
   "source": [
    "fruits = [\"apple\", \"banana\", \"cherry\"]\n",
    "\n",
    "for i in fruits: \n",
    "    print(i)"
   ]
  },
  {
   "cell_type": "code",
   "execution_count": 14,
   "id": "e53e836a",
   "metadata": {},
   "outputs": [
    {
     "name": "stdout",
     "output_type": "stream",
     "text": [
      "W\n",
      "h\n",
      "i\n",
      "s\n",
      "k\n",
      "y\n"
     ]
    }
   ],
   "source": [
    "# iterating within the word\n",
    "\n",
    "for i in \"Whisky\":\n",
    "    print(i)"
   ]
  },
  {
   "cell_type": "code",
   "execution_count": 24,
   "id": "b780cf14",
   "metadata": {},
   "outputs": [
    {
     "name": "stdout",
     "output_type": "stream",
     "text": [
      "w\n",
      "h\n",
      "i\n",
      "s\n"
     ]
    }
   ],
   "source": [
    "for i in \"whisky\":\n",
    "    if(i == 'k'):\n",
    "        break\n",
    "    print(i)"
   ]
  },
  {
   "cell_type": "code",
   "execution_count": 26,
   "id": "acaabd0a",
   "metadata": {},
   "outputs": [
    {
     "name": "stdout",
     "output_type": "stream",
     "text": [
      "apple\n"
     ]
    }
   ],
   "source": [
    "for i in fruits:\n",
    "    if i== \"banana\":\n",
    "        break\n",
    "    print(i)"
   ]
  },
  {
   "cell_type": "code",
   "execution_count": 27,
   "id": "805204a6",
   "metadata": {},
   "outputs": [
    {
     "name": "stdout",
     "output_type": "stream",
     "text": [
      "apple\n",
      "banana\n"
     ]
    }
   ],
   "source": [
    "# continue\n",
    "\n",
    "for i in fruits:\n",
    "    if i== \"cherry\":\n",
    "        continue\n",
    "    print(i)"
   ]
  },
  {
   "cell_type": "code",
   "execution_count": 32,
   "id": "a8343c44",
   "metadata": {},
   "outputs": [
    {
     "name": "stdout",
     "output_type": "stream",
     "text": [
      "0\n",
      "1\n",
      "2\n",
      "3\n",
      "4\n",
      "5\n",
      "6\n"
     ]
    }
   ],
   "source": [
    "# range\n",
    "\n",
    "for i in range(7):\n",
    "    print(i)"
   ]
  },
  {
   "cell_type": "code",
   "execution_count": 33,
   "id": "f45e56b1",
   "metadata": {},
   "outputs": [
    {
     "name": "stdout",
     "output_type": "stream",
     "text": [
      "2\n",
      "3\n",
      "4\n",
      "5\n",
      "6\n",
      "7\n"
     ]
    }
   ],
   "source": [
    "for i in range(2,8):\n",
    "    print(i)"
   ]
  },
  {
   "cell_type": "code",
   "execution_count": 34,
   "id": "ec198b3d",
   "metadata": {},
   "outputs": [
    {
     "name": "stdout",
     "output_type": "stream",
     "text": [
      "0\n",
      "1\n",
      "2\n",
      "3\n",
      "4\n",
      "iteration is finished\n"
     ]
    }
   ],
   "source": [
    "# else in for loop\n",
    "\n",
    "for i in range(5):\n",
    "    print(i)\n",
    "else:\n",
    "    print(\"iteration is finished\")"
   ]
  },
  {
   "cell_type": "code",
   "execution_count": 36,
   "id": "cd74f5e6",
   "metadata": {},
   "outputs": [
    {
     "name": "stdout",
     "output_type": "stream",
     "text": [
      "apple\n",
      "banana\n"
     ]
    }
   ],
   "source": [
    "# else wont be executed if there is break \n",
    "\n",
    "for i in fruits:\n",
    "    if i== \"cherry\":\n",
    "        break\n",
    "    print(i)\n",
    "\n",
    "else:\n",
    "    print(\"end of string\")"
   ]
  },
  {
   "cell_type": "code",
   "execution_count": 37,
   "id": "affb8012",
   "metadata": {},
   "outputs": [
    {
     "name": "stdout",
     "output_type": "stream",
     "text": [
      "red apple\n",
      "red banana\n",
      "red cherry\n",
      "big apple\n",
      "big banana\n",
      "big cherry\n",
      "tasty apple\n",
      "tasty banana\n",
      "tasty cherry\n"
     ]
    }
   ],
   "source": [
    "# nested loops\n",
    "\n",
    "adj = [\"red\", \"big\", \"tasty\"]\n",
    "fruits = [\"apple\", \"banana\", \"cherry\"]\n",
    "\n",
    "for i in adj: \n",
    "    for j in fruits: \n",
    "        print(i,j)"
   ]
  },
  {
   "cell_type": "code",
   "execution_count": 38,
   "id": "b7e4aa15",
   "metadata": {},
   "outputs": [],
   "source": [
    "#pass: it is used for empty loop with no statement. doesnt get any error\n",
    "\n",
    "for i in \"melissa\":\n",
    "    pass"
   ]
  },
  {
   "cell_type": "code",
   "execution_count": null,
   "id": "e645c9c8",
   "metadata": {},
   "outputs": [],
   "source": []
  }
 ],
 "metadata": {
  "kernelspec": {
   "display_name": "Python 3 (ipykernel)",
   "language": "python",
   "name": "python3"
  },
  "language_info": {
   "codemirror_mode": {
    "name": "ipython",
    "version": 3
   },
   "file_extension": ".py",
   "mimetype": "text/x-python",
   "name": "python",
   "nbconvert_exporter": "python",
   "pygments_lexer": "ipython3",
   "version": "3.9.12"
  }
 },
 "nbformat": 4,
 "nbformat_minor": 5
}
